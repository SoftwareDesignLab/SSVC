{
  "cells": [
    {
      "cell_type": "markdown",
      "metadata": {
        "id": "MyETdB-dkBsX"
      },
      "source": [
        "## **Fine-tuning BERT for named-entity recognition**\n",
        "\n",
        "In this notebook, we are going to use **BertForTokenClassification** which is included in the [Transformers library](https://github.com/huggingface/transformers) by HuggingFace. This model has BERT as its base architecture, with a token classification head on top, allowing it to make predictions at the token level, rather than the sequence level. Named entity recognition is typically treated as a token classification problem, so that's what we are going to use it for.\n",
        "\n",
        "This tutorial uses the idea of **transfer learning**, i.e. first pretraining a large neural network in an unsupervised way, and then fine-tuning that neural network on a task of interest. In this case, BERT is a neural network pretrained on 2 tasks: masked language modeling and next sentence prediction. Now, we are going to fine-tune this network on a NER dataset. Fine-tuning is supervised learning, so this means we will need a labeled dataset.\n",
        "\n",
        "If you want to know more about BERT, I suggest the following resources:\n",
        "* the original [paper](https://arxiv.org/abs/1810.04805)\n",
        "* Jay Allamar's [blog post](http://jalammar.github.io/illustrated-bert/) as well as his [tutorial](http://jalammar.github.io/a-visual-guide-to-using-bert-for-the-first-time/)\n",
        "* Chris Mccormick's [Youtube channel](https://www.youtube.com/channel/UCoRX98PLOsaN8PtekB9kWrw)\n",
        "* Abbishek Kumar Mishra's [Youtube channel](https://www.youtube.com/user/abhisheksvnit)\n",
        "\n",
        "The following notebook largely follows the same structure as the tutorials by Abhishek Kumar Mishra. For his tutorials on the Transformers library, see his [Github repository](https://github.com/abhimishra91/transformers-tutorials).\n",
        "\n",
        "NOTE: this notebook assumes basic knowledge about deep learning, BERT, and native PyTorch. If you want to learn more Python, deep learning and PyTorch, I highly recommend cs231n by Stanford University and the FastAI course by Jeremy Howard et al. Both are freely available on the web.  \n",
        "\n",
        "Now, let's move on to the real stuff!"
      ]
    },
    {
      "cell_type": "markdown",
      "metadata": {
        "id": "e7wfLWyYkvDi"
      },
      "source": [
        "#### **Importing Python Libraries and preparing the environment**\n",
        "\n",
        "This notebook assumes that you have the following libraries installed:\n",
        "* pandas\n",
        "* numpy\n",
        "* sklearn\n",
        "* pytorch\n",
        "* transformers\n",
        "* seqeval\n",
        "\n",
        "As we are running this in Google Colab, the only libraries we need to additionally install are transformers and seqeval (GPU version):"
      ]
    },
    {
      "cell_type": "code",
      "execution_count": null,
      "metadata": {
        "colab": {
          "base_uri": "https://localhost:8080/"
        },
        "id": "d4_YJqjR_Gjw",
        "outputId": "1c190ec2-8b8b-4913-e67e-765b771352aa"
      },
      "outputs": [
        {
          "output_type": "stream",
          "name": "stdout",
          "text": [
            "Requirement already satisfied: transformers in /usr/local/lib/python3.10/dist-packages (4.35.2)\n",
            "Requirement already satisfied: seqeval[gpu] in /usr/local/lib/python3.10/dist-packages (1.2.2)\n",
            "Requirement already satisfied: filelock in /usr/local/lib/python3.10/dist-packages (from transformers) (3.13.1)\n",
            "Requirement already satisfied: huggingface-hub<1.0,>=0.16.4 in /usr/local/lib/python3.10/dist-packages (from transformers) (0.19.4)\n",
            "Requirement already satisfied: numpy>=1.17 in /usr/local/lib/python3.10/dist-packages (from transformers) (1.23.5)\n",
            "Requirement already satisfied: packaging>=20.0 in /usr/local/lib/python3.10/dist-packages (from transformers) (23.2)\n",
            "Requirement already satisfied: pyyaml>=5.1 in /usr/local/lib/python3.10/dist-packages (from transformers) (6.0.1)\n",
            "Requirement already satisfied: regex!=2019.12.17 in /usr/local/lib/python3.10/dist-packages (from transformers) (2023.6.3)\n",
            "Requirement already satisfied: requests in /usr/local/lib/python3.10/dist-packages (from transformers) (2.31.0)\n",
            "Requirement already satisfied: tokenizers<0.19,>=0.14 in /usr/local/lib/python3.10/dist-packages (from transformers) (0.15.0)\n",
            "Requirement already satisfied: safetensors>=0.3.1 in /usr/local/lib/python3.10/dist-packages (from transformers) (0.4.0)\n",
            "Requirement already satisfied: tqdm>=4.27 in /usr/local/lib/python3.10/dist-packages (from transformers) (4.66.1)\n",
            "Requirement already satisfied: scikit-learn>=0.21.3 in /usr/local/lib/python3.10/dist-packages (from seqeval[gpu]) (1.2.2)\n",
            "Requirement already satisfied: fsspec>=2023.5.0 in /usr/local/lib/python3.10/dist-packages (from huggingface-hub<1.0,>=0.16.4->transformers) (2023.6.0)\n",
            "Requirement already satisfied: typing-extensions>=3.7.4.3 in /usr/local/lib/python3.10/dist-packages (from huggingface-hub<1.0,>=0.16.4->transformers) (4.5.0)\n",
            "Requirement already satisfied: scipy>=1.3.2 in /usr/local/lib/python3.10/dist-packages (from scikit-learn>=0.21.3->seqeval[gpu]) (1.11.3)\n",
            "Requirement already satisfied: joblib>=1.1.1 in /usr/local/lib/python3.10/dist-packages (from scikit-learn>=0.21.3->seqeval[gpu]) (1.3.2)\n",
            "Requirement already satisfied: threadpoolctl>=2.0.0 in /usr/local/lib/python3.10/dist-packages (from scikit-learn>=0.21.3->seqeval[gpu]) (3.2.0)\n",
            "Requirement already satisfied: charset-normalizer<4,>=2 in /usr/local/lib/python3.10/dist-packages (from requests->transformers) (3.3.2)\n",
            "Requirement already satisfied: idna<4,>=2.5 in /usr/local/lib/python3.10/dist-packages (from requests->transformers) (3.4)\n",
            "Requirement already satisfied: urllib3<3,>=1.21.1 in /usr/local/lib/python3.10/dist-packages (from requests->transformers) (2.0.7)\n",
            "Requirement already satisfied: certifi>=2017.4.17 in /usr/local/lib/python3.10/dist-packages (from requests->transformers) (2023.7.22)\n"
          ]
        }
      ],
      "source": [
        "!pip install transformers seqeval[gpu]"
      ]
    },
    {
      "cell_type": "code",
      "execution_count": null,
      "metadata": {
        "id": "IEnlUbgm8z3B"
      },
      "outputs": [],
      "source": [
        "import pandas as pd\n",
        "pd.set_option('display.max_colwidth',1000)\n",
        "import numpy as np\n",
        "from sklearn.metrics import accuracy_score\n",
        "import torch\n",
        "from torch.utils.data import Dataset, DataLoader\n",
        "from transformers import BertTokenizer, BertConfig, BertForTokenClassification, AutoTokenizer, AutoModelForTokenClassification"
      ]
    },
    {
      "cell_type": "markdown",
      "metadata": {
        "id": "Jzq1w3L1K5M-"
      },
      "source": [
        "As deep learning can be accellerated a lot using a GPU instead of a CPU, make sure you can run this notebook in a GPU runtime (which Google Colab provides for free! - check \"Runtime\" - \"Change runtime type\" - and set the hardware accelerator to \"GPU\").\n",
        "\n",
        "We can set the default device to GPU using the following code (if it prints \"cuda\", it means the GPU has been recognized):"
      ]
    },
    {
      "cell_type": "code",
      "execution_count": null,
      "metadata": {
        "colab": {
          "base_uri": "https://localhost:8080/"
        },
        "id": "Sm1krxJtKxpx",
        "outputId": "f642e6fd-6dd8-4456-d1e0-839af0665d6d"
      },
      "outputs": [
        {
          "output_type": "stream",
          "name": "stdout",
          "text": [
            "cuda\n"
          ]
        }
      ],
      "source": [
        "from torch import cuda\n",
        "device = 'cuda' if cuda.is_available() else 'cpu'\n",
        "print(device)"
      ]
    },
    {
      "cell_type": "markdown",
      "metadata": {
        "id": "ahwMsmyG5ZPE"
      },
      "source": [
        "#### **Downloading and preprocessing the data**\n",
        "Named entity recognition (NER) uses a specific annotation scheme, which is defined (at least for European languages) at the *word* level. An annotation scheme that is widely used is called **[IOB-tagging](https://en.wikipedia.org/wiki/Inside%E2%80%93outside%E2%80%93beginning_(tagging))**, which stands for Inside-Outside-Beginning. Each tag indicates whether the corresponding word is *inside*, *outside* or at the *beginning* of a specific named entity. The reason this is used is because named entities usually comprise more than 1 word.\n",
        "\n",
        "Let's have a look at an example. If you have a sentence like \"Barack Obama was born in Hawaï\", then the corresponding tags would be   [B-PERS, I-PERS, O, O, O, B-GEO]. B-PERS means that the word \"Barack\" is the beginning of a person, I-PERS means that the word \"Obama\" is inside a person, \"O\" means that the word \"was\" is outside a named entity, and so on. So one typically has as many tags as there are words in a sentence.\n",
        "\n",
        "So if you want to train a deep learning model for NER, it requires that you have your data in this IOB format (or similar formats such as [BILOU](https://stackoverflow.com/questions/17116446/what-do-the-bilou-tags-mean-in-named-entity-recognition)). There exist many annotation tools which let you create these kind of annotations automatically (such as Spacy's [Prodigy](https://prodi.gy/), [Tagtog](https://docs.tagtog.net/) or [Doccano](https://github.com/doccano/doccano)). You can also use Spacy's [biluo_tags_from_offsets](https://spacy.io/api/goldparse#biluo_tags_from_offsets) function to convert annotations at the character level to IOB format.\n",
        "\n",
        "Here, we will use a NER dataset from [Kaggle](https://www.kaggle.com/namanj27/ner-dataset) that is already in IOB format. One has to go to this web page, download the dataset, unzip it, and upload the csv file to this notebook. Let's print out the first few rows of this csv file:"
      ]
    },
    {
      "cell_type": "code",
      "execution_count": null,
      "metadata": {
        "colab": {
          "base_uri": "https://localhost:8080/",
          "height": 206
        },
        "id": "deLB9HVX5I6F",
        "outputId": "705910f0-2f9e-4812-bbb5-a4c10288a69f"
      },
      "outputs": [
        {
          "output_type": "execute_result",
          "data": {
            "text/plain": [
              "       Sentence #        Word   POS                   Tag\n",
              "0  Sentence: 3973         SQL  NONE        B-Remote/Local\n",
              "1  Sentence: 5335         5.8  NONE                B-Risk\n",
              "2  Sentence: 6564     network  NONE  I-Vulnerability_Type\n",
              "3  Sentence: 3005  2017-11-15  NONE     B-Published_dates\n",
              "4  Sentence: 1790  passwords.  NONE                     O"
            ],
            "text/html": [
              "\n",
              "  <div id=\"df-800586e6-fe11-4c16-bf1e-a1fbbdfe5039\" class=\"colab-df-container\">\n",
              "    <div>\n",
              "<style scoped>\n",
              "    .dataframe tbody tr th:only-of-type {\n",
              "        vertical-align: middle;\n",
              "    }\n",
              "\n",
              "    .dataframe tbody tr th {\n",
              "        vertical-align: top;\n",
              "    }\n",
              "\n",
              "    .dataframe thead th {\n",
              "        text-align: right;\n",
              "    }\n",
              "</style>\n",
              "<table border=\"1\" class=\"dataframe\">\n",
              "  <thead>\n",
              "    <tr style=\"text-align: right;\">\n",
              "      <th></th>\n",
              "      <th>Sentence #</th>\n",
              "      <th>Word</th>\n",
              "      <th>POS</th>\n",
              "      <th>Tag</th>\n",
              "    </tr>\n",
              "  </thead>\n",
              "  <tbody>\n",
              "    <tr>\n",
              "      <th>0</th>\n",
              "      <td>Sentence: 3973</td>\n",
              "      <td>SQL</td>\n",
              "      <td>NONE</td>\n",
              "      <td>B-Remote/Local</td>\n",
              "    </tr>\n",
              "    <tr>\n",
              "      <th>1</th>\n",
              "      <td>Sentence: 5335</td>\n",
              "      <td>5.8</td>\n",
              "      <td>NONE</td>\n",
              "      <td>B-Risk</td>\n",
              "    </tr>\n",
              "    <tr>\n",
              "      <th>2</th>\n",
              "      <td>Sentence: 6564</td>\n",
              "      <td>network</td>\n",
              "      <td>NONE</td>\n",
              "      <td>I-Vulnerability_Type</td>\n",
              "    </tr>\n",
              "    <tr>\n",
              "      <th>3</th>\n",
              "      <td>Sentence: 3005</td>\n",
              "      <td>2017-11-15</td>\n",
              "      <td>NONE</td>\n",
              "      <td>B-Published_dates</td>\n",
              "    </tr>\n",
              "    <tr>\n",
              "      <th>4</th>\n",
              "      <td>Sentence: 1790</td>\n",
              "      <td>passwords.</td>\n",
              "      <td>NONE</td>\n",
              "      <td>O</td>\n",
              "    </tr>\n",
              "  </tbody>\n",
              "</table>\n",
              "</div>\n",
              "    <div class=\"colab-df-buttons\">\n",
              "\n",
              "  <div class=\"colab-df-container\">\n",
              "    <button class=\"colab-df-convert\" onclick=\"convertToInteractive('df-800586e6-fe11-4c16-bf1e-a1fbbdfe5039')\"\n",
              "            title=\"Convert this dataframe to an interactive table.\"\n",
              "            style=\"display:none;\">\n",
              "\n",
              "  <svg xmlns=\"http://www.w3.org/2000/svg\" height=\"24px\" viewBox=\"0 -960 960 960\">\n",
              "    <path d=\"M120-120v-720h720v720H120Zm60-500h600v-160H180v160Zm220 220h160v-160H400v160Zm0 220h160v-160H400v160ZM180-400h160v-160H180v160Zm440 0h160v-160H620v160ZM180-180h160v-160H180v160Zm440 0h160v-160H620v160Z\"/>\n",
              "  </svg>\n",
              "    </button>\n",
              "\n",
              "  <style>\n",
              "    .colab-df-container {\n",
              "      display:flex;\n",
              "      gap: 12px;\n",
              "    }\n",
              "\n",
              "    .colab-df-convert {\n",
              "      background-color: #E8F0FE;\n",
              "      border: none;\n",
              "      border-radius: 50%;\n",
              "      cursor: pointer;\n",
              "      display: none;\n",
              "      fill: #1967D2;\n",
              "      height: 32px;\n",
              "      padding: 0 0 0 0;\n",
              "      width: 32px;\n",
              "    }\n",
              "\n",
              "    .colab-df-convert:hover {\n",
              "      background-color: #E2EBFA;\n",
              "      box-shadow: 0px 1px 2px rgba(60, 64, 67, 0.3), 0px 1px 3px 1px rgba(60, 64, 67, 0.15);\n",
              "      fill: #174EA6;\n",
              "    }\n",
              "\n",
              "    .colab-df-buttons div {\n",
              "      margin-bottom: 4px;\n",
              "    }\n",
              "\n",
              "    [theme=dark] .colab-df-convert {\n",
              "      background-color: #3B4455;\n",
              "      fill: #D2E3FC;\n",
              "    }\n",
              "\n",
              "    [theme=dark] .colab-df-convert:hover {\n",
              "      background-color: #434B5C;\n",
              "      box-shadow: 0px 1px 3px 1px rgba(0, 0, 0, 0.15);\n",
              "      filter: drop-shadow(0px 1px 2px rgba(0, 0, 0, 0.3));\n",
              "      fill: #FFFFFF;\n",
              "    }\n",
              "  </style>\n",
              "\n",
              "    <script>\n",
              "      const buttonEl =\n",
              "        document.querySelector('#df-800586e6-fe11-4c16-bf1e-a1fbbdfe5039 button.colab-df-convert');\n",
              "      buttonEl.style.display =\n",
              "        google.colab.kernel.accessAllowed ? 'block' : 'none';\n",
              "\n",
              "      async function convertToInteractive(key) {\n",
              "        const element = document.querySelector('#df-800586e6-fe11-4c16-bf1e-a1fbbdfe5039');\n",
              "        const dataTable =\n",
              "          await google.colab.kernel.invokeFunction('convertToInteractive',\n",
              "                                                    [key], {});\n",
              "        if (!dataTable) return;\n",
              "\n",
              "        const docLinkHtml = 'Like what you see? Visit the ' +\n",
              "          '<a target=\"_blank\" href=https://colab.research.google.com/notebooks/data_table.ipynb>data table notebook</a>'\n",
              "          + ' to learn more about interactive tables.';\n",
              "        element.innerHTML = '';\n",
              "        dataTable['output_type'] = 'display_data';\n",
              "        await google.colab.output.renderOutput(dataTable, element);\n",
              "        const docLink = document.createElement('div');\n",
              "        docLink.innerHTML = docLinkHtml;\n",
              "        element.appendChild(docLink);\n",
              "      }\n",
              "    </script>\n",
              "  </div>\n",
              "\n",
              "\n",
              "<div id=\"df-52c0b200-7cf4-4285-9811-d2f2287aa0e2\">\n",
              "  <button class=\"colab-df-quickchart\" onclick=\"quickchart('df-52c0b200-7cf4-4285-9811-d2f2287aa0e2')\"\n",
              "            title=\"Suggest charts\"\n",
              "            style=\"display:none;\">\n",
              "\n",
              "<svg xmlns=\"http://www.w3.org/2000/svg\" height=\"24px\"viewBox=\"0 0 24 24\"\n",
              "     width=\"24px\">\n",
              "    <g>\n",
              "        <path d=\"M19 3H5c-1.1 0-2 .9-2 2v14c0 1.1.9 2 2 2h14c1.1 0 2-.9 2-2V5c0-1.1-.9-2-2-2zM9 17H7v-7h2v7zm4 0h-2V7h2v10zm4 0h-2v-4h2v4z\"/>\n",
              "    </g>\n",
              "</svg>\n",
              "  </button>\n",
              "\n",
              "<style>\n",
              "  .colab-df-quickchart {\n",
              "      --bg-color: #E8F0FE;\n",
              "      --fill-color: #1967D2;\n",
              "      --hover-bg-color: #E2EBFA;\n",
              "      --hover-fill-color: #174EA6;\n",
              "      --disabled-fill-color: #AAA;\n",
              "      --disabled-bg-color: #DDD;\n",
              "  }\n",
              "\n",
              "  [theme=dark] .colab-df-quickchart {\n",
              "      --bg-color: #3B4455;\n",
              "      --fill-color: #D2E3FC;\n",
              "      --hover-bg-color: #434B5C;\n",
              "      --hover-fill-color: #FFFFFF;\n",
              "      --disabled-bg-color: #3B4455;\n",
              "      --disabled-fill-color: #666;\n",
              "  }\n",
              "\n",
              "  .colab-df-quickchart {\n",
              "    background-color: var(--bg-color);\n",
              "    border: none;\n",
              "    border-radius: 50%;\n",
              "    cursor: pointer;\n",
              "    display: none;\n",
              "    fill: var(--fill-color);\n",
              "    height: 32px;\n",
              "    padding: 0;\n",
              "    width: 32px;\n",
              "  }\n",
              "\n",
              "  .colab-df-quickchart:hover {\n",
              "    background-color: var(--hover-bg-color);\n",
              "    box-shadow: 0 1px 2px rgba(60, 64, 67, 0.3), 0 1px 3px 1px rgba(60, 64, 67, 0.15);\n",
              "    fill: var(--button-hover-fill-color);\n",
              "  }\n",
              "\n",
              "  .colab-df-quickchart-complete:disabled,\n",
              "  .colab-df-quickchart-complete:disabled:hover {\n",
              "    background-color: var(--disabled-bg-color);\n",
              "    fill: var(--disabled-fill-color);\n",
              "    box-shadow: none;\n",
              "  }\n",
              "\n",
              "  .colab-df-spinner {\n",
              "    border: 2px solid var(--fill-color);\n",
              "    border-color: transparent;\n",
              "    border-bottom-color: var(--fill-color);\n",
              "    animation:\n",
              "      spin 1s steps(1) infinite;\n",
              "  }\n",
              "\n",
              "  @keyframes spin {\n",
              "    0% {\n",
              "      border-color: transparent;\n",
              "      border-bottom-color: var(--fill-color);\n",
              "      border-left-color: var(--fill-color);\n",
              "    }\n",
              "    20% {\n",
              "      border-color: transparent;\n",
              "      border-left-color: var(--fill-color);\n",
              "      border-top-color: var(--fill-color);\n",
              "    }\n",
              "    30% {\n",
              "      border-color: transparent;\n",
              "      border-left-color: var(--fill-color);\n",
              "      border-top-color: var(--fill-color);\n",
              "      border-right-color: var(--fill-color);\n",
              "    }\n",
              "    40% {\n",
              "      border-color: transparent;\n",
              "      border-right-color: var(--fill-color);\n",
              "      border-top-color: var(--fill-color);\n",
              "    }\n",
              "    60% {\n",
              "      border-color: transparent;\n",
              "      border-right-color: var(--fill-color);\n",
              "    }\n",
              "    80% {\n",
              "      border-color: transparent;\n",
              "      border-right-color: var(--fill-color);\n",
              "      border-bottom-color: var(--fill-color);\n",
              "    }\n",
              "    90% {\n",
              "      border-color: transparent;\n",
              "      border-bottom-color: var(--fill-color);\n",
              "    }\n",
              "  }\n",
              "</style>\n",
              "\n",
              "  <script>\n",
              "    async function quickchart(key) {\n",
              "      const quickchartButtonEl =\n",
              "        document.querySelector('#' + key + ' button');\n",
              "      quickchartButtonEl.disabled = true;  // To prevent multiple clicks.\n",
              "      quickchartButtonEl.classList.add('colab-df-spinner');\n",
              "      try {\n",
              "        const charts = await google.colab.kernel.invokeFunction(\n",
              "            'suggestCharts', [key], {});\n",
              "      } catch (error) {\n",
              "        console.error('Error during call to suggestCharts:', error);\n",
              "      }\n",
              "      quickchartButtonEl.classList.remove('colab-df-spinner');\n",
              "      quickchartButtonEl.classList.add('colab-df-quickchart-complete');\n",
              "    }\n",
              "    (() => {\n",
              "      let quickchartButtonEl =\n",
              "        document.querySelector('#df-52c0b200-7cf4-4285-9811-d2f2287aa0e2 button');\n",
              "      quickchartButtonEl.style.display =\n",
              "        google.colab.kernel.accessAllowed ? 'block' : 'none';\n",
              "    })();\n",
              "  </script>\n",
              "</div>\n",
              "    </div>\n",
              "  </div>\n"
            ]
          },
          "metadata": {},
          "execution_count": 47
        }
      ],
      "source": [
        "data = pd.read_csv(\"oversampled_file.csv\")\n",
        "data.head()"
      ]
    },
    {
      "cell_type": "markdown",
      "metadata": {
        "id": "ucYjhq6uRAmY"
      },
      "source": [
        "Let's check how many sentences and words (and corresponding tags) there are in this dataset:"
      ]
    },
    {
      "cell_type": "code",
      "execution_count": null,
      "metadata": {
        "colab": {
          "base_uri": "https://localhost:8080/"
        },
        "id": "6gMibEJXTKDw",
        "outputId": "12eec47b-904f-4098-9160-5a302d5b701b"
      },
      "outputs": [
        {
          "output_type": "execute_result",
          "data": {
            "text/plain": [
              "Sentence #    156794\n",
              "Word          156631\n",
              "POS           156794\n",
              "Tag           156794\n",
              "dtype: int64"
            ]
          },
          "metadata": {},
          "execution_count": 48
        }
      ],
      "source": [
        "data.count()"
      ]
    },
    {
      "cell_type": "markdown",
      "metadata": {
        "id": "sUGXZOfE_GkO"
      },
      "source": [
        "As we can see, there are approximately 48,000 sentences in the dataset, comprising more than 1 million words and tags (quite huge!). This corresponds to approximately 20 words per sentence.\n",
        "\n",
        "Let's have a look at the different NER tags, and their frequency:"
      ]
    },
    {
      "cell_type": "code",
      "execution_count": null,
      "metadata": {
        "colab": {
          "base_uri": "https://localhost:8080/"
        },
        "id": "s4Jn1fVT_GkO",
        "outputId": "4a3cf891-69df-4361-bca8-986cddb79bc4"
      },
      "outputs": [
        {
          "output_type": "stream",
          "name": "stdout",
          "text": [
            "Number of tags: 21\n"
          ]
        },
        {
          "output_type": "execute_result",
          "data": {
            "text/plain": [
              "O                       26186\n",
              "I-Impact                20200\n",
              "B-Vulnerability_Type    11700\n",
              "B-CVE                   10476\n",
              "B-Vendor                 9642\n",
              "B-Impact                 8810\n",
              "B-Product                8716\n",
              "B-Published_dates        8645\n",
              "B-Risk                   8505\n",
              "B-Remote/Local           8404\n",
              "B-Version_Number         8368\n",
              "B-Host_Information       8167\n",
              "I-Vulnerability_Type     7061\n",
              "I-Product                3696\n",
              "I-Host_Information       2222\n",
              "I-Risk                   1467\n",
              "I-Published_dates        1219\n",
              "I-Version_Number         1051\n",
              "I-CVE                     992\n",
              "I-Remote/Local            747\n",
              "I-Vendor                  520\n",
              "Name: Tag, dtype: int64"
            ]
          },
          "metadata": {},
          "execution_count": 49
        }
      ],
      "source": [
        "print(\"Number of tags: {}\".format(len(data.Tag.unique())))\n",
        "frequencies = data.Tag.value_counts()\n",
        "frequencies"
      ]
    },
    {
      "cell_type": "markdown",
      "metadata": {
        "id": "gsX0ebih_GkS"
      },
      "source": [
        "There are 8 category tags, each with a \"beginning\" and \"inside\" variant, and the \"outside\" tag. It is not really clear what these tags mean - \"geo\" probably stands for geographical entity, \"gpe\" for geopolitical entity, and so on. They do not seem to correspond with what the publisher says on Kaggle. Some tags seem to be underrepresented. Let's print them by frequency (highest to lowest):"
      ]
    },
    {
      "cell_type": "code",
      "execution_count": null,
      "metadata": {
        "colab": {
          "base_uri": "https://localhost:8080/"
        },
        "id": "CmjbHirJ_GkS",
        "outputId": "fe173dd0-a7c8-4c0a-9174-a61266b3b7b2"
      },
      "outputs": [
        {
          "output_type": "stream",
          "name": "stdout",
          "text": [
            "[('Imp', 29010), ('Vul', 18761), ('Pro', 12412), ('CVE', 11468), ('Hos', 10389), ('Ven', 10162), ('Ris', 9972), ('Pub', 9864), ('Ver', 9419), ('Rem', 9151)]\n"
          ]
        }
      ],
      "source": [
        "tags = {}\n",
        "for tag, count in zip(frequencies.index, frequencies):\n",
        "    if tag != \"O\":\n",
        "        if tag[2:5] not in tags.keys():\n",
        "            tags[tag[2:5]] = count\n",
        "        else:\n",
        "            tags[tag[2:5]] += count\n",
        "    continue\n",
        "\n",
        "print(sorted(tags.items(), key=lambda x: x[1], reverse=True))"
      ]
    },
    {
      "cell_type": "markdown",
      "metadata": {
        "id": "aGUQemBz_GkV"
      },
      "source": [
        "Let's remove \"art\", \"eve\" and \"nat\" named entities, as performance on them will probably be not comparable to the other named entities."
      ]
    },
    {
      "cell_type": "code",
      "execution_count": null,
      "metadata": {
        "colab": {
          "base_uri": "https://localhost:8080/",
          "height": 206
        },
        "id": "8iorLrU4_GkW",
        "outputId": "646682ac-aea0-44d3-9cf5-f1230b858b71"
      },
      "outputs": [
        {
          "output_type": "execute_result",
          "data": {
            "text/plain": [
              "       Sentence #        Word   POS                   Tag\n",
              "0  Sentence: 3973         SQL  NONE        B-Remote/Local\n",
              "1  Sentence: 5335         5.8  NONE                B-Risk\n",
              "2  Sentence: 6564     network  NONE  I-Vulnerability_Type\n",
              "3  Sentence: 3005  2017-11-15  NONE     B-Published_dates\n",
              "4  Sentence: 1790  passwords.  NONE                     O"
            ],
            "text/html": [
              "\n",
              "  <div id=\"df-3e4cd3a3-fdee-4565-8155-ad4eb02a0eb8\" class=\"colab-df-container\">\n",
              "    <div>\n",
              "<style scoped>\n",
              "    .dataframe tbody tr th:only-of-type {\n",
              "        vertical-align: middle;\n",
              "    }\n",
              "\n",
              "    .dataframe tbody tr th {\n",
              "        vertical-align: top;\n",
              "    }\n",
              "\n",
              "    .dataframe thead th {\n",
              "        text-align: right;\n",
              "    }\n",
              "</style>\n",
              "<table border=\"1\" class=\"dataframe\">\n",
              "  <thead>\n",
              "    <tr style=\"text-align: right;\">\n",
              "      <th></th>\n",
              "      <th>Sentence #</th>\n",
              "      <th>Word</th>\n",
              "      <th>POS</th>\n",
              "      <th>Tag</th>\n",
              "    </tr>\n",
              "  </thead>\n",
              "  <tbody>\n",
              "    <tr>\n",
              "      <th>0</th>\n",
              "      <td>Sentence: 3973</td>\n",
              "      <td>SQL</td>\n",
              "      <td>NONE</td>\n",
              "      <td>B-Remote/Local</td>\n",
              "    </tr>\n",
              "    <tr>\n",
              "      <th>1</th>\n",
              "      <td>Sentence: 5335</td>\n",
              "      <td>5.8</td>\n",
              "      <td>NONE</td>\n",
              "      <td>B-Risk</td>\n",
              "    </tr>\n",
              "    <tr>\n",
              "      <th>2</th>\n",
              "      <td>Sentence: 6564</td>\n",
              "      <td>network</td>\n",
              "      <td>NONE</td>\n",
              "      <td>I-Vulnerability_Type</td>\n",
              "    </tr>\n",
              "    <tr>\n",
              "      <th>3</th>\n",
              "      <td>Sentence: 3005</td>\n",
              "      <td>2017-11-15</td>\n",
              "      <td>NONE</td>\n",
              "      <td>B-Published_dates</td>\n",
              "    </tr>\n",
              "    <tr>\n",
              "      <th>4</th>\n",
              "      <td>Sentence: 1790</td>\n",
              "      <td>passwords.</td>\n",
              "      <td>NONE</td>\n",
              "      <td>O</td>\n",
              "    </tr>\n",
              "  </tbody>\n",
              "</table>\n",
              "</div>\n",
              "    <div class=\"colab-df-buttons\">\n",
              "\n",
              "  <div class=\"colab-df-container\">\n",
              "    <button class=\"colab-df-convert\" onclick=\"convertToInteractive('df-3e4cd3a3-fdee-4565-8155-ad4eb02a0eb8')\"\n",
              "            title=\"Convert this dataframe to an interactive table.\"\n",
              "            style=\"display:none;\">\n",
              "\n",
              "  <svg xmlns=\"http://www.w3.org/2000/svg\" height=\"24px\" viewBox=\"0 -960 960 960\">\n",
              "    <path d=\"M120-120v-720h720v720H120Zm60-500h600v-160H180v160Zm220 220h160v-160H400v160Zm0 220h160v-160H400v160ZM180-400h160v-160H180v160Zm440 0h160v-160H620v160ZM180-180h160v-160H180v160Zm440 0h160v-160H620v160Z\"/>\n",
              "  </svg>\n",
              "    </button>\n",
              "\n",
              "  <style>\n",
              "    .colab-df-container {\n",
              "      display:flex;\n",
              "      gap: 12px;\n",
              "    }\n",
              "\n",
              "    .colab-df-convert {\n",
              "      background-color: #E8F0FE;\n",
              "      border: none;\n",
              "      border-radius: 50%;\n",
              "      cursor: pointer;\n",
              "      display: none;\n",
              "      fill: #1967D2;\n",
              "      height: 32px;\n",
              "      padding: 0 0 0 0;\n",
              "      width: 32px;\n",
              "    }\n",
              "\n",
              "    .colab-df-convert:hover {\n",
              "      background-color: #E2EBFA;\n",
              "      box-shadow: 0px 1px 2px rgba(60, 64, 67, 0.3), 0px 1px 3px 1px rgba(60, 64, 67, 0.15);\n",
              "      fill: #174EA6;\n",
              "    }\n",
              "\n",
              "    .colab-df-buttons div {\n",
              "      margin-bottom: 4px;\n",
              "    }\n",
              "\n",
              "    [theme=dark] .colab-df-convert {\n",
              "      background-color: #3B4455;\n",
              "      fill: #D2E3FC;\n",
              "    }\n",
              "\n",
              "    [theme=dark] .colab-df-convert:hover {\n",
              "      background-color: #434B5C;\n",
              "      box-shadow: 0px 1px 3px 1px rgba(0, 0, 0, 0.15);\n",
              "      filter: drop-shadow(0px 1px 2px rgba(0, 0, 0, 0.3));\n",
              "      fill: #FFFFFF;\n",
              "    }\n",
              "  </style>\n",
              "\n",
              "    <script>\n",
              "      const buttonEl =\n",
              "        document.querySelector('#df-3e4cd3a3-fdee-4565-8155-ad4eb02a0eb8 button.colab-df-convert');\n",
              "      buttonEl.style.display =\n",
              "        google.colab.kernel.accessAllowed ? 'block' : 'none';\n",
              "\n",
              "      async function convertToInteractive(key) {\n",
              "        const element = document.querySelector('#df-3e4cd3a3-fdee-4565-8155-ad4eb02a0eb8');\n",
              "        const dataTable =\n",
              "          await google.colab.kernel.invokeFunction('convertToInteractive',\n",
              "                                                    [key], {});\n",
              "        if (!dataTable) return;\n",
              "\n",
              "        const docLinkHtml = 'Like what you see? Visit the ' +\n",
              "          '<a target=\"_blank\" href=https://colab.research.google.com/notebooks/data_table.ipynb>data table notebook</a>'\n",
              "          + ' to learn more about interactive tables.';\n",
              "        element.innerHTML = '';\n",
              "        dataTable['output_type'] = 'display_data';\n",
              "        await google.colab.output.renderOutput(dataTable, element);\n",
              "        const docLink = document.createElement('div');\n",
              "        docLink.innerHTML = docLinkHtml;\n",
              "        element.appendChild(docLink);\n",
              "      }\n",
              "    </script>\n",
              "  </div>\n",
              "\n",
              "\n",
              "<div id=\"df-1617d19d-c80f-485c-be58-222d0fb4a33f\">\n",
              "  <button class=\"colab-df-quickchart\" onclick=\"quickchart('df-1617d19d-c80f-485c-be58-222d0fb4a33f')\"\n",
              "            title=\"Suggest charts\"\n",
              "            style=\"display:none;\">\n",
              "\n",
              "<svg xmlns=\"http://www.w3.org/2000/svg\" height=\"24px\"viewBox=\"0 0 24 24\"\n",
              "     width=\"24px\">\n",
              "    <g>\n",
              "        <path d=\"M19 3H5c-1.1 0-2 .9-2 2v14c0 1.1.9 2 2 2h14c1.1 0 2-.9 2-2V5c0-1.1-.9-2-2-2zM9 17H7v-7h2v7zm4 0h-2V7h2v10zm4 0h-2v-4h2v4z\"/>\n",
              "    </g>\n",
              "</svg>\n",
              "  </button>\n",
              "\n",
              "<style>\n",
              "  .colab-df-quickchart {\n",
              "      --bg-color: #E8F0FE;\n",
              "      --fill-color: #1967D2;\n",
              "      --hover-bg-color: #E2EBFA;\n",
              "      --hover-fill-color: #174EA6;\n",
              "      --disabled-fill-color: #AAA;\n",
              "      --disabled-bg-color: #DDD;\n",
              "  }\n",
              "\n",
              "  [theme=dark] .colab-df-quickchart {\n",
              "      --bg-color: #3B4455;\n",
              "      --fill-color: #D2E3FC;\n",
              "      --hover-bg-color: #434B5C;\n",
              "      --hover-fill-color: #FFFFFF;\n",
              "      --disabled-bg-color: #3B4455;\n",
              "      --disabled-fill-color: #666;\n",
              "  }\n",
              "\n",
              "  .colab-df-quickchart {\n",
              "    background-color: var(--bg-color);\n",
              "    border: none;\n",
              "    border-radius: 50%;\n",
              "    cursor: pointer;\n",
              "    display: none;\n",
              "    fill: var(--fill-color);\n",
              "    height: 32px;\n",
              "    padding: 0;\n",
              "    width: 32px;\n",
              "  }\n",
              "\n",
              "  .colab-df-quickchart:hover {\n",
              "    background-color: var(--hover-bg-color);\n",
              "    box-shadow: 0 1px 2px rgba(60, 64, 67, 0.3), 0 1px 3px 1px rgba(60, 64, 67, 0.15);\n",
              "    fill: var(--button-hover-fill-color);\n",
              "  }\n",
              "\n",
              "  .colab-df-quickchart-complete:disabled,\n",
              "  .colab-df-quickchart-complete:disabled:hover {\n",
              "    background-color: var(--disabled-bg-color);\n",
              "    fill: var(--disabled-fill-color);\n",
              "    box-shadow: none;\n",
              "  }\n",
              "\n",
              "  .colab-df-spinner {\n",
              "    border: 2px solid var(--fill-color);\n",
              "    border-color: transparent;\n",
              "    border-bottom-color: var(--fill-color);\n",
              "    animation:\n",
              "      spin 1s steps(1) infinite;\n",
              "  }\n",
              "\n",
              "  @keyframes spin {\n",
              "    0% {\n",
              "      border-color: transparent;\n",
              "      border-bottom-color: var(--fill-color);\n",
              "      border-left-color: var(--fill-color);\n",
              "    }\n",
              "    20% {\n",
              "      border-color: transparent;\n",
              "      border-left-color: var(--fill-color);\n",
              "      border-top-color: var(--fill-color);\n",
              "    }\n",
              "    30% {\n",
              "      border-color: transparent;\n",
              "      border-left-color: var(--fill-color);\n",
              "      border-top-color: var(--fill-color);\n",
              "      border-right-color: var(--fill-color);\n",
              "    }\n",
              "    40% {\n",
              "      border-color: transparent;\n",
              "      border-right-color: var(--fill-color);\n",
              "      border-top-color: var(--fill-color);\n",
              "    }\n",
              "    60% {\n",
              "      border-color: transparent;\n",
              "      border-right-color: var(--fill-color);\n",
              "    }\n",
              "    80% {\n",
              "      border-color: transparent;\n",
              "      border-right-color: var(--fill-color);\n",
              "      border-bottom-color: var(--fill-color);\n",
              "    }\n",
              "    90% {\n",
              "      border-color: transparent;\n",
              "      border-bottom-color: var(--fill-color);\n",
              "    }\n",
              "  }\n",
              "</style>\n",
              "\n",
              "  <script>\n",
              "    async function quickchart(key) {\n",
              "      const quickchartButtonEl =\n",
              "        document.querySelector('#' + key + ' button');\n",
              "      quickchartButtonEl.disabled = true;  // To prevent multiple clicks.\n",
              "      quickchartButtonEl.classList.add('colab-df-spinner');\n",
              "      try {\n",
              "        const charts = await google.colab.kernel.invokeFunction(\n",
              "            'suggestCharts', [key], {});\n",
              "      } catch (error) {\n",
              "        console.error('Error during call to suggestCharts:', error);\n",
              "      }\n",
              "      quickchartButtonEl.classList.remove('colab-df-spinner');\n",
              "      quickchartButtonEl.classList.add('colab-df-quickchart-complete');\n",
              "    }\n",
              "    (() => {\n",
              "      let quickchartButtonEl =\n",
              "        document.querySelector('#df-1617d19d-c80f-485c-be58-222d0fb4a33f button');\n",
              "      quickchartButtonEl.style.display =\n",
              "        google.colab.kernel.accessAllowed ? 'block' : 'none';\n",
              "    })();\n",
              "  </script>\n",
              "</div>\n",
              "    </div>\n",
              "  </div>\n"
            ]
          },
          "metadata": {},
          "execution_count": 51
        }
      ],
      "source": [
        "entities_to_remove = [\"B-art\", \"I-art\", \"B-eve\", \"I-eve\", \"B-nat\", \"I-nat\"]\n",
        "data = data[~data.Tag.isin(entities_to_remove)]\n",
        "data.head()"
      ]
    },
    {
      "cell_type": "markdown",
      "metadata": {
        "id": "mskU4h0oRKEF"
      },
      "source": [
        "Now, we have to ask ourself the question: what is a training example in the case of NER, which is provided in a single forward pass? A training example is typically a **sentence**, with corresponding IOB tags. Let's group the words and corresponding tags by sentence:"
      ]
    },
    {
      "cell_type": "code",
      "execution_count": null,
      "metadata": {
        "colab": {
          "base_uri": "https://localhost:8080/",
          "height": 206
        },
        "id": "zkW2vNcO-uMH",
        "outputId": "969cbfc4-5e62-4908-d615-591f095df5d2"
      },
      "outputs": [
        {
          "output_type": "execute_result",
          "data": {
            "text/plain": [
              "       Sentence #        Word   POS                   Tag\n",
              "0  Sentence: 3973         SQL  NONE        B-Remote/Local\n",
              "1  Sentence: 5335         5.8  NONE                B-Risk\n",
              "2  Sentence: 6564     network  NONE  I-Vulnerability_Type\n",
              "3  Sentence: 3005  2017-11-15  NONE     B-Published_dates\n",
              "4  Sentence: 1790  passwords.  NONE                     O"
            ],
            "text/html": [
              "\n",
              "  <div id=\"df-15c4af7d-1a44-4404-8cfe-bf1a6b770e4c\" class=\"colab-df-container\">\n",
              "    <div>\n",
              "<style scoped>\n",
              "    .dataframe tbody tr th:only-of-type {\n",
              "        vertical-align: middle;\n",
              "    }\n",
              "\n",
              "    .dataframe tbody tr th {\n",
              "        vertical-align: top;\n",
              "    }\n",
              "\n",
              "    .dataframe thead th {\n",
              "        text-align: right;\n",
              "    }\n",
              "</style>\n",
              "<table border=\"1\" class=\"dataframe\">\n",
              "  <thead>\n",
              "    <tr style=\"text-align: right;\">\n",
              "      <th></th>\n",
              "      <th>Sentence #</th>\n",
              "      <th>Word</th>\n",
              "      <th>POS</th>\n",
              "      <th>Tag</th>\n",
              "    </tr>\n",
              "  </thead>\n",
              "  <tbody>\n",
              "    <tr>\n",
              "      <th>0</th>\n",
              "      <td>Sentence: 3973</td>\n",
              "      <td>SQL</td>\n",
              "      <td>NONE</td>\n",
              "      <td>B-Remote/Local</td>\n",
              "    </tr>\n",
              "    <tr>\n",
              "      <th>1</th>\n",
              "      <td>Sentence: 5335</td>\n",
              "      <td>5.8</td>\n",
              "      <td>NONE</td>\n",
              "      <td>B-Risk</td>\n",
              "    </tr>\n",
              "    <tr>\n",
              "      <th>2</th>\n",
              "      <td>Sentence: 6564</td>\n",
              "      <td>network</td>\n",
              "      <td>NONE</td>\n",
              "      <td>I-Vulnerability_Type</td>\n",
              "    </tr>\n",
              "    <tr>\n",
              "      <th>3</th>\n",
              "      <td>Sentence: 3005</td>\n",
              "      <td>2017-11-15</td>\n",
              "      <td>NONE</td>\n",
              "      <td>B-Published_dates</td>\n",
              "    </tr>\n",
              "    <tr>\n",
              "      <th>4</th>\n",
              "      <td>Sentence: 1790</td>\n",
              "      <td>passwords.</td>\n",
              "      <td>NONE</td>\n",
              "      <td>O</td>\n",
              "    </tr>\n",
              "  </tbody>\n",
              "</table>\n",
              "</div>\n",
              "    <div class=\"colab-df-buttons\">\n",
              "\n",
              "  <div class=\"colab-df-container\">\n",
              "    <button class=\"colab-df-convert\" onclick=\"convertToInteractive('df-15c4af7d-1a44-4404-8cfe-bf1a6b770e4c')\"\n",
              "            title=\"Convert this dataframe to an interactive table.\"\n",
              "            style=\"display:none;\">\n",
              "\n",
              "  <svg xmlns=\"http://www.w3.org/2000/svg\" height=\"24px\" viewBox=\"0 -960 960 960\">\n",
              "    <path d=\"M120-120v-720h720v720H120Zm60-500h600v-160H180v160Zm220 220h160v-160H400v160Zm0 220h160v-160H400v160ZM180-400h160v-160H180v160Zm440 0h160v-160H620v160ZM180-180h160v-160H180v160Zm440 0h160v-160H620v160Z\"/>\n",
              "  </svg>\n",
              "    </button>\n",
              "\n",
              "  <style>\n",
              "    .colab-df-container {\n",
              "      display:flex;\n",
              "      gap: 12px;\n",
              "    }\n",
              "\n",
              "    .colab-df-convert {\n",
              "      background-color: #E8F0FE;\n",
              "      border: none;\n",
              "      border-radius: 50%;\n",
              "      cursor: pointer;\n",
              "      display: none;\n",
              "      fill: #1967D2;\n",
              "      height: 32px;\n",
              "      padding: 0 0 0 0;\n",
              "      width: 32px;\n",
              "    }\n",
              "\n",
              "    .colab-df-convert:hover {\n",
              "      background-color: #E2EBFA;\n",
              "      box-shadow: 0px 1px 2px rgba(60, 64, 67, 0.3), 0px 1px 3px 1px rgba(60, 64, 67, 0.15);\n",
              "      fill: #174EA6;\n",
              "    }\n",
              "\n",
              "    .colab-df-buttons div {\n",
              "      margin-bottom: 4px;\n",
              "    }\n",
              "\n",
              "    [theme=dark] .colab-df-convert {\n",
              "      background-color: #3B4455;\n",
              "      fill: #D2E3FC;\n",
              "    }\n",
              "\n",
              "    [theme=dark] .colab-df-convert:hover {\n",
              "      background-color: #434B5C;\n",
              "      box-shadow: 0px 1px 3px 1px rgba(0, 0, 0, 0.15);\n",
              "      filter: drop-shadow(0px 1px 2px rgba(0, 0, 0, 0.3));\n",
              "      fill: #FFFFFF;\n",
              "    }\n",
              "  </style>\n",
              "\n",
              "    <script>\n",
              "      const buttonEl =\n",
              "        document.querySelector('#df-15c4af7d-1a44-4404-8cfe-bf1a6b770e4c button.colab-df-convert');\n",
              "      buttonEl.style.display =\n",
              "        google.colab.kernel.accessAllowed ? 'block' : 'none';\n",
              "\n",
              "      async function convertToInteractive(key) {\n",
              "        const element = document.querySelector('#df-15c4af7d-1a44-4404-8cfe-bf1a6b770e4c');\n",
              "        const dataTable =\n",
              "          await google.colab.kernel.invokeFunction('convertToInteractive',\n",
              "                                                    [key], {});\n",
              "        if (!dataTable) return;\n",
              "\n",
              "        const docLinkHtml = 'Like what you see? Visit the ' +\n",
              "          '<a target=\"_blank\" href=https://colab.research.google.com/notebooks/data_table.ipynb>data table notebook</a>'\n",
              "          + ' to learn more about interactive tables.';\n",
              "        element.innerHTML = '';\n",
              "        dataTable['output_type'] = 'display_data';\n",
              "        await google.colab.output.renderOutput(dataTable, element);\n",
              "        const docLink = document.createElement('div');\n",
              "        docLink.innerHTML = docLinkHtml;\n",
              "        element.appendChild(docLink);\n",
              "      }\n",
              "    </script>\n",
              "  </div>\n",
              "\n",
              "\n",
              "<div id=\"df-3a90a97e-a289-4554-b1d5-b050dae104a8\">\n",
              "  <button class=\"colab-df-quickchart\" onclick=\"quickchart('df-3a90a97e-a289-4554-b1d5-b050dae104a8')\"\n",
              "            title=\"Suggest charts\"\n",
              "            style=\"display:none;\">\n",
              "\n",
              "<svg xmlns=\"http://www.w3.org/2000/svg\" height=\"24px\"viewBox=\"0 0 24 24\"\n",
              "     width=\"24px\">\n",
              "    <g>\n",
              "        <path d=\"M19 3H5c-1.1 0-2 .9-2 2v14c0 1.1.9 2 2 2h14c1.1 0 2-.9 2-2V5c0-1.1-.9-2-2-2zM9 17H7v-7h2v7zm4 0h-2V7h2v10zm4 0h-2v-4h2v4z\"/>\n",
              "    </g>\n",
              "</svg>\n",
              "  </button>\n",
              "\n",
              "<style>\n",
              "  .colab-df-quickchart {\n",
              "      --bg-color: #E8F0FE;\n",
              "      --fill-color: #1967D2;\n",
              "      --hover-bg-color: #E2EBFA;\n",
              "      --hover-fill-color: #174EA6;\n",
              "      --disabled-fill-color: #AAA;\n",
              "      --disabled-bg-color: #DDD;\n",
              "  }\n",
              "\n",
              "  [theme=dark] .colab-df-quickchart {\n",
              "      --bg-color: #3B4455;\n",
              "      --fill-color: #D2E3FC;\n",
              "      --hover-bg-color: #434B5C;\n",
              "      --hover-fill-color: #FFFFFF;\n",
              "      --disabled-bg-color: #3B4455;\n",
              "      --disabled-fill-color: #666;\n",
              "  }\n",
              "\n",
              "  .colab-df-quickchart {\n",
              "    background-color: var(--bg-color);\n",
              "    border: none;\n",
              "    border-radius: 50%;\n",
              "    cursor: pointer;\n",
              "    display: none;\n",
              "    fill: var(--fill-color);\n",
              "    height: 32px;\n",
              "    padding: 0;\n",
              "    width: 32px;\n",
              "  }\n",
              "\n",
              "  .colab-df-quickchart:hover {\n",
              "    background-color: var(--hover-bg-color);\n",
              "    box-shadow: 0 1px 2px rgba(60, 64, 67, 0.3), 0 1px 3px 1px rgba(60, 64, 67, 0.15);\n",
              "    fill: var(--button-hover-fill-color);\n",
              "  }\n",
              "\n",
              "  .colab-df-quickchart-complete:disabled,\n",
              "  .colab-df-quickchart-complete:disabled:hover {\n",
              "    background-color: var(--disabled-bg-color);\n",
              "    fill: var(--disabled-fill-color);\n",
              "    box-shadow: none;\n",
              "  }\n",
              "\n",
              "  .colab-df-spinner {\n",
              "    border: 2px solid var(--fill-color);\n",
              "    border-color: transparent;\n",
              "    border-bottom-color: var(--fill-color);\n",
              "    animation:\n",
              "      spin 1s steps(1) infinite;\n",
              "  }\n",
              "\n",
              "  @keyframes spin {\n",
              "    0% {\n",
              "      border-color: transparent;\n",
              "      border-bottom-color: var(--fill-color);\n",
              "      border-left-color: var(--fill-color);\n",
              "    }\n",
              "    20% {\n",
              "      border-color: transparent;\n",
              "      border-left-color: var(--fill-color);\n",
              "      border-top-color: var(--fill-color);\n",
              "    }\n",
              "    30% {\n",
              "      border-color: transparent;\n",
              "      border-left-color: var(--fill-color);\n",
              "      border-top-color: var(--fill-color);\n",
              "      border-right-color: var(--fill-color);\n",
              "    }\n",
              "    40% {\n",
              "      border-color: transparent;\n",
              "      border-right-color: var(--fill-color);\n",
              "      border-top-color: var(--fill-color);\n",
              "    }\n",
              "    60% {\n",
              "      border-color: transparent;\n",
              "      border-right-color: var(--fill-color);\n",
              "    }\n",
              "    80% {\n",
              "      border-color: transparent;\n",
              "      border-right-color: var(--fill-color);\n",
              "      border-bottom-color: var(--fill-color);\n",
              "    }\n",
              "    90% {\n",
              "      border-color: transparent;\n",
              "      border-bottom-color: var(--fill-color);\n",
              "    }\n",
              "  }\n",
              "</style>\n",
              "\n",
              "  <script>\n",
              "    async function quickchart(key) {\n",
              "      const quickchartButtonEl =\n",
              "        document.querySelector('#' + key + ' button');\n",
              "      quickchartButtonEl.disabled = true;  // To prevent multiple clicks.\n",
              "      quickchartButtonEl.classList.add('colab-df-spinner');\n",
              "      try {\n",
              "        const charts = await google.colab.kernel.invokeFunction(\n",
              "            'suggestCharts', [key], {});\n",
              "      } catch (error) {\n",
              "        console.error('Error during call to suggestCharts:', error);\n",
              "      }\n",
              "      quickchartButtonEl.classList.remove('colab-df-spinner');\n",
              "      quickchartButtonEl.classList.add('colab-df-quickchart-complete');\n",
              "    }\n",
              "    (() => {\n",
              "      let quickchartButtonEl =\n",
              "        document.querySelector('#df-3a90a97e-a289-4554-b1d5-b050dae104a8 button');\n",
              "      quickchartButtonEl.style.display =\n",
              "        google.colab.kernel.accessAllowed ? 'block' : 'none';\n",
              "    })();\n",
              "  </script>\n",
              "</div>\n",
              "    </div>\n",
              "  </div>\n"
            ]
          },
          "metadata": {},
          "execution_count": 52
        }
      ],
      "source": [
        "# pandas has a very handy \"forward fill\" function to fill missing values based on the last upper non-nan value\n",
        "data = data.fillna(method='ffill')\n",
        "data.head()"
      ]
    },
    {
      "cell_type": "code",
      "execution_count": null,
      "metadata": {
        "colab": {
          "base_uri": "https://localhost:8080/",
          "height": 1000
        },
        "id": "Hmd-ow389k6Y",
        "outputId": "84f4f3dc-ef76-497d-e933-cf3a5f6aa78c"
      },
      "outputs": [
        {
          "output_type": "execute_result",
          "data": {
            "text/plain": [
              "       Sentence #        Word   POS                   Tag  \\\n",
              "0  Sentence: 3973         SQL  NONE        B-Remote/Local   \n",
              "1  Sentence: 5335         5.8  NONE                B-Risk   \n",
              "2  Sentence: 6564     network  NONE  I-Vulnerability_Type   \n",
              "3  Sentence: 3005  2017-11-15  NONE     B-Published_dates   \n",
              "4  Sentence: 1790  passwords.  NONE                     O   \n",
              "\n",
              "                                                                                                                                                                                                                                                                                                                                                                                                                                                                                                                                                                                                                                                                                                                                                                                                                                                                                                                                                                                                                                  sentence  \\\n",
              "0  SQL ---------------------------------------------------------------------------- SQL Command SQL CommandPost SQL SQL Command the SQL is Command CommandPost SQL SQL web Command SQL SQL investigating. by Command ---------------------------------------------------------------------------- CommandPost Command CommandPost Command CommandPost Remote Command -------------------------------------------------------------------------------- SQL of SQL SQL Command Command SQL SQL Command to Command CommandPost CommandPost Remote web CommandPost SQL ---------------------------------------------------------------------------- CommandPost ---------------------------------------------------------------------------- SQL injection** appliance Remote appliance Remote Command Remote this Command Command CommandPost SQL Command I -------------------------------------------------------------------------------- Command SQL Command Command -----------------------------------------------------------------...   \n",
              "1                                                                                                                                                                                                                                                                                                                                                                                                                                                                                                                                                                                                                                                                                                                                                                                                                                                                                                                                                                                                      5.8 5.8 5.8 5.8 5.8 5.8 5.8 5.8 5.8   \n",
              "2                                                                                                                                                                                                                                                                                                                                                                                                                                                                                                                                                                                                                                                                                                                                                                                                                     network adjacent 8.6 **CVSSv3 CVE-2021-20145 **CVSSv3 **CVSSv3 Score:** CVE-2021-20145 Base CVE-2021-20145 **CVSSv3 access adjacent adjacent **CVSSv3 **CVSSv3 Unprotected CVE-2021-20145 **CVSSv3 **CVSSv3 **CVSSv3   \n",
              "3                                                                                                                                                                                                                                                                                                                                                                                                              2017-11-15 WKE2.094.277A01 FiberHome FiberHome RP2602: HG6245D 2017-11-15 Hardware 2018-04-13 HG6245D 2018-04-13 routers RP2602: FiberHome FiberHome 2017-11-15 2018-04-13 FiberHome 2018-04-13 RP2602: routers version firmware FiberHome HG6245D, FiberHome 2017-11-15 FiberHome 2018-04-13 HG6245D FiberHome FiberHome America HG6245D FiberHome Technologies 2017-11-15 FiberHome FiberHome RP2602: HG6245D, FiberHome 2017-11-15 vendor 2017-11-15 2018-04-13 HG6245D : HG6245D vulnerabilities FiberHome FiberHome FiberHome FiberHome FiberHome FiberHome routers FiberHome FiberHome FiberHome 2018-04-13 FiberHome   \n",
              "4                                                                                                                                                                                                                                                                                                                                                                                                                                                                                                                                                                                                                                                                                                                                                                                                                                                                                                                                                                                                                               passwords.   \n",
              "\n",
              "                                                                                                                                                                                                                                                                                                                                                                                                                                                                                                                                                                                                                                                                                                                                                                                                                                                                                                                                                                                                                               word_labels  \n",
              "0  B-Remote/Local,B-CVE,B-Remote/Local,B-Remote/Local,B-Remote/Local,B-Vendor,B-Remote/Local,B-Remote/Local,B-Remote/Local,O,B-Remote/Local,O,B-Remote/Local,B-Vendor,B-Remote/Local,B-Remote/Local,B-Product,B-Remote/Local,B-Remote/Local,B-Remote/Local,O,O,B-Remote/Local,B-CVE,B-Vendor,B-Remote/Local,B-Vendor,B-Remote/Local,B-Vendor,B-Vulnerability_Type,B-Remote/Local,B-CVE,B-Remote/Local,O,B-Remote/Local,B-Remote/Local,B-Remote/Local,B-Remote/Local,B-Remote/Local,B-Remote/Local,B-Remote/Local,O,B-Remote/Local,B-Vendor,B-Vendor,B-Vulnerability_Type,B-Product,B-Vendor,B-Remote/Local,B-CVE,B-Vendor,B-CVE,B-Remote/Local,I-Vulnerability_Type,B-Product,B-Vulnerability_Type,B-Product,B-Vulnerability_Type,B-Remote/Local,B-Vulnerability_Type,O,B-Remote/Local,B-Remote/Local,B-Vendor,B-Remote/Local,B-Remote/Local,O,B-CVE,B-Remote/Local,B-Remote/Local,B-Remote/Local,B-Remote/Local,B-CVE,O,B-Remote/Local,B-Vulnerability_Type,B-Remote/Local,B-Remote/Local,B-Vendor,B-Vendor,I-Vulnerability_Type,B-Rem...  \n",
              "1                                                                                                                                                                                                                                                                                                                                                                                                                                                                                                                                                                                                                                                                                                                                                                                                                                                                                                                                                                           B-Risk,B-Risk,B-Risk,B-Risk,B-Risk,B-Risk,B-Risk,B-Risk,B-Risk  \n",
              "2                                                                                                                                                                                                                                                                                                                                                                                                                                                                                                                                                                                                                                                                                                                                                                                                                   I-Vulnerability_Type,B-Vulnerability_Type,I-Risk,B-Risk,B-CVE,B-Risk,B-Risk,I-Risk,B-CVE,I-Risk,B-CVE,B-Risk,I-Vulnerability_Type,B-Vulnerability_Type,B-Vulnerability_Type,B-Risk,B-Risk,O,B-CVE,B-Risk,B-Risk,B-Risk  \n",
              "3                                                                                                                                                                                                                                                                       B-Published_dates,I-Host_Information,B-Vendor,B-Vendor,B-Version_Number,B-Product,B-Published_dates,B-Host_Information,B-Published_dates,B-Product,B-Published_dates,I-Product,B-Version_Number,B-Vendor,B-Vendor,B-Published_dates,B-Published_dates,B-Vendor,B-Published_dates,B-Version_Number,I-Product,I-Host_Information,O,B-Vendor,B-Product,B-Vendor,B-Published_dates,B-Vendor,B-Published_dates,B-Product,B-Vendor,B-Vendor,O,B-Product,B-Vendor,I-Vendor,B-Published_dates,B-Vendor,B-Vendor,B-Version_Number,B-Product,B-Vendor,B-Published_dates,O,B-Published_dates,B-Published_dates,B-Product,I-Host_Information,B-Product,O,B-Vendor,B-Vendor,B-Vendor,B-Vendor,B-Vendor,B-Vendor,I-Product,B-Vendor,B-Vendor,B-Vendor,B-Published_dates,B-Vendor  \n",
              "4                                                                                                                                                                                                                                                                                                                                                                                                                                                                                                                                                                                                                                                                                                                                                                                                                                                                                                                                                                                                                                        O  "
            ],
            "text/html": [
              "\n",
              "  <div id=\"df-31b5700e-7976-4fcd-a40f-993178d3c68f\" class=\"colab-df-container\">\n",
              "    <div>\n",
              "<style scoped>\n",
              "    .dataframe tbody tr th:only-of-type {\n",
              "        vertical-align: middle;\n",
              "    }\n",
              "\n",
              "    .dataframe tbody tr th {\n",
              "        vertical-align: top;\n",
              "    }\n",
              "\n",
              "    .dataframe thead th {\n",
              "        text-align: right;\n",
              "    }\n",
              "</style>\n",
              "<table border=\"1\" class=\"dataframe\">\n",
              "  <thead>\n",
              "    <tr style=\"text-align: right;\">\n",
              "      <th></th>\n",
              "      <th>Sentence #</th>\n",
              "      <th>Word</th>\n",
              "      <th>POS</th>\n",
              "      <th>Tag</th>\n",
              "      <th>sentence</th>\n",
              "      <th>word_labels</th>\n",
              "    </tr>\n",
              "  </thead>\n",
              "  <tbody>\n",
              "    <tr>\n",
              "      <th>0</th>\n",
              "      <td>Sentence: 3973</td>\n",
              "      <td>SQL</td>\n",
              "      <td>NONE</td>\n",
              "      <td>B-Remote/Local</td>\n",
              "      <td>SQL ---------------------------------------------------------------------------- SQL Command SQL CommandPost SQL SQL Command the SQL is Command CommandPost SQL SQL web Command SQL SQL investigating. by Command ---------------------------------------------------------------------------- CommandPost Command CommandPost Command CommandPost Remote Command -------------------------------------------------------------------------------- SQL of SQL SQL Command Command SQL SQL Command to Command CommandPost CommandPost Remote web CommandPost SQL ---------------------------------------------------------------------------- CommandPost ---------------------------------------------------------------------------- SQL injection** appliance Remote appliance Remote Command Remote this Command Command CommandPost SQL Command I -------------------------------------------------------------------------------- Command SQL Command Command -----------------------------------------------------------------...</td>\n",
              "      <td>B-Remote/Local,B-CVE,B-Remote/Local,B-Remote/Local,B-Remote/Local,B-Vendor,B-Remote/Local,B-Remote/Local,B-Remote/Local,O,B-Remote/Local,O,B-Remote/Local,B-Vendor,B-Remote/Local,B-Remote/Local,B-Product,B-Remote/Local,B-Remote/Local,B-Remote/Local,O,O,B-Remote/Local,B-CVE,B-Vendor,B-Remote/Local,B-Vendor,B-Remote/Local,B-Vendor,B-Vulnerability_Type,B-Remote/Local,B-CVE,B-Remote/Local,O,B-Remote/Local,B-Remote/Local,B-Remote/Local,B-Remote/Local,B-Remote/Local,B-Remote/Local,B-Remote/Local,O,B-Remote/Local,B-Vendor,B-Vendor,B-Vulnerability_Type,B-Product,B-Vendor,B-Remote/Local,B-CVE,B-Vendor,B-CVE,B-Remote/Local,I-Vulnerability_Type,B-Product,B-Vulnerability_Type,B-Product,B-Vulnerability_Type,B-Remote/Local,B-Vulnerability_Type,O,B-Remote/Local,B-Remote/Local,B-Vendor,B-Remote/Local,B-Remote/Local,O,B-CVE,B-Remote/Local,B-Remote/Local,B-Remote/Local,B-Remote/Local,B-CVE,O,B-Remote/Local,B-Vulnerability_Type,B-Remote/Local,B-Remote/Local,B-Vendor,B-Vendor,I-Vulnerability_Type,B-Rem...</td>\n",
              "    </tr>\n",
              "    <tr>\n",
              "      <th>1</th>\n",
              "      <td>Sentence: 5335</td>\n",
              "      <td>5.8</td>\n",
              "      <td>NONE</td>\n",
              "      <td>B-Risk</td>\n",
              "      <td>5.8 5.8 5.8 5.8 5.8 5.8 5.8 5.8 5.8</td>\n",
              "      <td>B-Risk,B-Risk,B-Risk,B-Risk,B-Risk,B-Risk,B-Risk,B-Risk,B-Risk</td>\n",
              "    </tr>\n",
              "    <tr>\n",
              "      <th>2</th>\n",
              "      <td>Sentence: 6564</td>\n",
              "      <td>network</td>\n",
              "      <td>NONE</td>\n",
              "      <td>I-Vulnerability_Type</td>\n",
              "      <td>network adjacent 8.6 **CVSSv3 CVE-2021-20145 **CVSSv3 **CVSSv3 Score:** CVE-2021-20145 Base CVE-2021-20145 **CVSSv3 access adjacent adjacent **CVSSv3 **CVSSv3 Unprotected CVE-2021-20145 **CVSSv3 **CVSSv3 **CVSSv3</td>\n",
              "      <td>I-Vulnerability_Type,B-Vulnerability_Type,I-Risk,B-Risk,B-CVE,B-Risk,B-Risk,I-Risk,B-CVE,I-Risk,B-CVE,B-Risk,I-Vulnerability_Type,B-Vulnerability_Type,B-Vulnerability_Type,B-Risk,B-Risk,O,B-CVE,B-Risk,B-Risk,B-Risk</td>\n",
              "    </tr>\n",
              "    <tr>\n",
              "      <th>3</th>\n",
              "      <td>Sentence: 3005</td>\n",
              "      <td>2017-11-15</td>\n",
              "      <td>NONE</td>\n",
              "      <td>B-Published_dates</td>\n",
              "      <td>2017-11-15 WKE2.094.277A01 FiberHome FiberHome RP2602: HG6245D 2017-11-15 Hardware 2018-04-13 HG6245D 2018-04-13 routers RP2602: FiberHome FiberHome 2017-11-15 2018-04-13 FiberHome 2018-04-13 RP2602: routers version firmware FiberHome HG6245D, FiberHome 2017-11-15 FiberHome 2018-04-13 HG6245D FiberHome FiberHome America HG6245D FiberHome Technologies 2017-11-15 FiberHome FiberHome RP2602: HG6245D, FiberHome 2017-11-15 vendor 2017-11-15 2018-04-13 HG6245D : HG6245D vulnerabilities FiberHome FiberHome FiberHome FiberHome FiberHome FiberHome routers FiberHome FiberHome FiberHome 2018-04-13 FiberHome</td>\n",
              "      <td>B-Published_dates,I-Host_Information,B-Vendor,B-Vendor,B-Version_Number,B-Product,B-Published_dates,B-Host_Information,B-Published_dates,B-Product,B-Published_dates,I-Product,B-Version_Number,B-Vendor,B-Vendor,B-Published_dates,B-Published_dates,B-Vendor,B-Published_dates,B-Version_Number,I-Product,I-Host_Information,O,B-Vendor,B-Product,B-Vendor,B-Published_dates,B-Vendor,B-Published_dates,B-Product,B-Vendor,B-Vendor,O,B-Product,B-Vendor,I-Vendor,B-Published_dates,B-Vendor,B-Vendor,B-Version_Number,B-Product,B-Vendor,B-Published_dates,O,B-Published_dates,B-Published_dates,B-Product,I-Host_Information,B-Product,O,B-Vendor,B-Vendor,B-Vendor,B-Vendor,B-Vendor,B-Vendor,I-Product,B-Vendor,B-Vendor,B-Vendor,B-Published_dates,B-Vendor</td>\n",
              "    </tr>\n",
              "    <tr>\n",
              "      <th>4</th>\n",
              "      <td>Sentence: 1790</td>\n",
              "      <td>passwords.</td>\n",
              "      <td>NONE</td>\n",
              "      <td>O</td>\n",
              "      <td>passwords.</td>\n",
              "      <td>O</td>\n",
              "    </tr>\n",
              "  </tbody>\n",
              "</table>\n",
              "</div>\n",
              "    <div class=\"colab-df-buttons\">\n",
              "\n",
              "  <div class=\"colab-df-container\">\n",
              "    <button class=\"colab-df-convert\" onclick=\"convertToInteractive('df-31b5700e-7976-4fcd-a40f-993178d3c68f')\"\n",
              "            title=\"Convert this dataframe to an interactive table.\"\n",
              "            style=\"display:none;\">\n",
              "\n",
              "  <svg xmlns=\"http://www.w3.org/2000/svg\" height=\"24px\" viewBox=\"0 -960 960 960\">\n",
              "    <path d=\"M120-120v-720h720v720H120Zm60-500h600v-160H180v160Zm220 220h160v-160H400v160Zm0 220h160v-160H400v160ZM180-400h160v-160H180v160Zm440 0h160v-160H620v160ZM180-180h160v-160H180v160Zm440 0h160v-160H620v160Z\"/>\n",
              "  </svg>\n",
              "    </button>\n",
              "\n",
              "  <style>\n",
              "    .colab-df-container {\n",
              "      display:flex;\n",
              "      gap: 12px;\n",
              "    }\n",
              "\n",
              "    .colab-df-convert {\n",
              "      background-color: #E8F0FE;\n",
              "      border: none;\n",
              "      border-radius: 50%;\n",
              "      cursor: pointer;\n",
              "      display: none;\n",
              "      fill: #1967D2;\n",
              "      height: 32px;\n",
              "      padding: 0 0 0 0;\n",
              "      width: 32px;\n",
              "    }\n",
              "\n",
              "    .colab-df-convert:hover {\n",
              "      background-color: #E2EBFA;\n",
              "      box-shadow: 0px 1px 2px rgba(60, 64, 67, 0.3), 0px 1px 3px 1px rgba(60, 64, 67, 0.15);\n",
              "      fill: #174EA6;\n",
              "    }\n",
              "\n",
              "    .colab-df-buttons div {\n",
              "      margin-bottom: 4px;\n",
              "    }\n",
              "\n",
              "    [theme=dark] .colab-df-convert {\n",
              "      background-color: #3B4455;\n",
              "      fill: #D2E3FC;\n",
              "    }\n",
              "\n",
              "    [theme=dark] .colab-df-convert:hover {\n",
              "      background-color: #434B5C;\n",
              "      box-shadow: 0px 1px 3px 1px rgba(0, 0, 0, 0.15);\n",
              "      filter: drop-shadow(0px 1px 2px rgba(0, 0, 0, 0.3));\n",
              "      fill: #FFFFFF;\n",
              "    }\n",
              "  </style>\n",
              "\n",
              "    <script>\n",
              "      const buttonEl =\n",
              "        document.querySelector('#df-31b5700e-7976-4fcd-a40f-993178d3c68f button.colab-df-convert');\n",
              "      buttonEl.style.display =\n",
              "        google.colab.kernel.accessAllowed ? 'block' : 'none';\n",
              "\n",
              "      async function convertToInteractive(key) {\n",
              "        const element = document.querySelector('#df-31b5700e-7976-4fcd-a40f-993178d3c68f');\n",
              "        const dataTable =\n",
              "          await google.colab.kernel.invokeFunction('convertToInteractive',\n",
              "                                                    [key], {});\n",
              "        if (!dataTable) return;\n",
              "\n",
              "        const docLinkHtml = 'Like what you see? Visit the ' +\n",
              "          '<a target=\"_blank\" href=https://colab.research.google.com/notebooks/data_table.ipynb>data table notebook</a>'\n",
              "          + ' to learn more about interactive tables.';\n",
              "        element.innerHTML = '';\n",
              "        dataTable['output_type'] = 'display_data';\n",
              "        await google.colab.output.renderOutput(dataTable, element);\n",
              "        const docLink = document.createElement('div');\n",
              "        docLink.innerHTML = docLinkHtml;\n",
              "        element.appendChild(docLink);\n",
              "      }\n",
              "    </script>\n",
              "  </div>\n",
              "\n",
              "\n",
              "<div id=\"df-d0c8d2bf-c152-4245-a011-7406407677e6\">\n",
              "  <button class=\"colab-df-quickchart\" onclick=\"quickchart('df-d0c8d2bf-c152-4245-a011-7406407677e6')\"\n",
              "            title=\"Suggest charts\"\n",
              "            style=\"display:none;\">\n",
              "\n",
              "<svg xmlns=\"http://www.w3.org/2000/svg\" height=\"24px\"viewBox=\"0 0 24 24\"\n",
              "     width=\"24px\">\n",
              "    <g>\n",
              "        <path d=\"M19 3H5c-1.1 0-2 .9-2 2v14c0 1.1.9 2 2 2h14c1.1 0 2-.9 2-2V5c0-1.1-.9-2-2-2zM9 17H7v-7h2v7zm4 0h-2V7h2v10zm4 0h-2v-4h2v4z\"/>\n",
              "    </g>\n",
              "</svg>\n",
              "  </button>\n",
              "\n",
              "<style>\n",
              "  .colab-df-quickchart {\n",
              "      --bg-color: #E8F0FE;\n",
              "      --fill-color: #1967D2;\n",
              "      --hover-bg-color: #E2EBFA;\n",
              "      --hover-fill-color: #174EA6;\n",
              "      --disabled-fill-color: #AAA;\n",
              "      --disabled-bg-color: #DDD;\n",
              "  }\n",
              "\n",
              "  [theme=dark] .colab-df-quickchart {\n",
              "      --bg-color: #3B4455;\n",
              "      --fill-color: #D2E3FC;\n",
              "      --hover-bg-color: #434B5C;\n",
              "      --hover-fill-color: #FFFFFF;\n",
              "      --disabled-bg-color: #3B4455;\n",
              "      --disabled-fill-color: #666;\n",
              "  }\n",
              "\n",
              "  .colab-df-quickchart {\n",
              "    background-color: var(--bg-color);\n",
              "    border: none;\n",
              "    border-radius: 50%;\n",
              "    cursor: pointer;\n",
              "    display: none;\n",
              "    fill: var(--fill-color);\n",
              "    height: 32px;\n",
              "    padding: 0;\n",
              "    width: 32px;\n",
              "  }\n",
              "\n",
              "  .colab-df-quickchart:hover {\n",
              "    background-color: var(--hover-bg-color);\n",
              "    box-shadow: 0 1px 2px rgba(60, 64, 67, 0.3), 0 1px 3px 1px rgba(60, 64, 67, 0.15);\n",
              "    fill: var(--button-hover-fill-color);\n",
              "  }\n",
              "\n",
              "  .colab-df-quickchart-complete:disabled,\n",
              "  .colab-df-quickchart-complete:disabled:hover {\n",
              "    background-color: var(--disabled-bg-color);\n",
              "    fill: var(--disabled-fill-color);\n",
              "    box-shadow: none;\n",
              "  }\n",
              "\n",
              "  .colab-df-spinner {\n",
              "    border: 2px solid var(--fill-color);\n",
              "    border-color: transparent;\n",
              "    border-bottom-color: var(--fill-color);\n",
              "    animation:\n",
              "      spin 1s steps(1) infinite;\n",
              "  }\n",
              "\n",
              "  @keyframes spin {\n",
              "    0% {\n",
              "      border-color: transparent;\n",
              "      border-bottom-color: var(--fill-color);\n",
              "      border-left-color: var(--fill-color);\n",
              "    }\n",
              "    20% {\n",
              "      border-color: transparent;\n",
              "      border-left-color: var(--fill-color);\n",
              "      border-top-color: var(--fill-color);\n",
              "    }\n",
              "    30% {\n",
              "      border-color: transparent;\n",
              "      border-left-color: var(--fill-color);\n",
              "      border-top-color: var(--fill-color);\n",
              "      border-right-color: var(--fill-color);\n",
              "    }\n",
              "    40% {\n",
              "      border-color: transparent;\n",
              "      border-right-color: var(--fill-color);\n",
              "      border-top-color: var(--fill-color);\n",
              "    }\n",
              "    60% {\n",
              "      border-color: transparent;\n",
              "      border-right-color: var(--fill-color);\n",
              "    }\n",
              "    80% {\n",
              "      border-color: transparent;\n",
              "      border-right-color: var(--fill-color);\n",
              "      border-bottom-color: var(--fill-color);\n",
              "    }\n",
              "    90% {\n",
              "      border-color: transparent;\n",
              "      border-bottom-color: var(--fill-color);\n",
              "    }\n",
              "  }\n",
              "</style>\n",
              "\n",
              "  <script>\n",
              "    async function quickchart(key) {\n",
              "      const quickchartButtonEl =\n",
              "        document.querySelector('#' + key + ' button');\n",
              "      quickchartButtonEl.disabled = true;  // To prevent multiple clicks.\n",
              "      quickchartButtonEl.classList.add('colab-df-spinner');\n",
              "      try {\n",
              "        const charts = await google.colab.kernel.invokeFunction(\n",
              "            'suggestCharts', [key], {});\n",
              "      } catch (error) {\n",
              "        console.error('Error during call to suggestCharts:', error);\n",
              "      }\n",
              "      quickchartButtonEl.classList.remove('colab-df-spinner');\n",
              "      quickchartButtonEl.classList.add('colab-df-quickchart-complete');\n",
              "    }\n",
              "    (() => {\n",
              "      let quickchartButtonEl =\n",
              "        document.querySelector('#df-d0c8d2bf-c152-4245-a011-7406407677e6 button');\n",
              "      quickchartButtonEl.style.display =\n",
              "        google.colab.kernel.accessAllowed ? 'block' : 'none';\n",
              "    })();\n",
              "  </script>\n",
              "</div>\n",
              "    </div>\n",
              "  </div>\n"
            ]
          },
          "metadata": {},
          "execution_count": 53
        }
      ],
      "source": [
        "# let's create a new column called \"sentence\" which groups the words by sentence\n",
        "data['sentence'] = data[['Sentence #','Word','Tag']].groupby(['Sentence #'])['Word'].transform(lambda x: ' '.join(x))\n",
        "# let's also create a new column called \"word_labels\" which groups the tags by sentence\n",
        "data['word_labels'] = data[['Sentence #','Word','Tag']].groupby(['Sentence #'])['Tag'].transform(lambda x: ','.join(x))\n",
        "data.head()"
      ]
    },
    {
      "cell_type": "markdown",
      "metadata": {
        "id": "JsjhdQbE-Lve"
      },
      "source": [
        "Let's have a look at the different NER tags.\n",
        "\n",
        "We create 2 dictionaries: one that maps individual tags to indices, and one that maps indices to their individual tags. This is necessary in order to create the labels (as computers work with numbers = indices, rather than words = tags) - see further in this notebook."
      ]
    },
    {
      "cell_type": "code",
      "execution_count": null,
      "metadata": {
        "colab": {
          "base_uri": "https://localhost:8080/"
        },
        "id": "CFRDM8WsQXvL",
        "outputId": "4159f57f-aa79-4f36-c3d4-859013732cae"
      },
      "outputs": [
        {
          "output_type": "execute_result",
          "data": {
            "text/plain": [
              "{'B-Remote/Local': 0,\n",
              " 'B-Risk': 1,\n",
              " 'I-Vulnerability_Type': 2,\n",
              " 'B-Published_dates': 3,\n",
              " 'O': 4,\n",
              " 'B-CVE': 5,\n",
              " 'B-Product': 6,\n",
              " 'B-Impact': 7,\n",
              " 'B-Version_Number': 8,\n",
              " 'B-Vulnerability_Type': 9,\n",
              " 'I-Impact': 10,\n",
              " 'I-Version_Number': 11,\n",
              " 'B-Host_Information': 12,\n",
              " 'B-Vendor': 13,\n",
              " 'I-Product': 14,\n",
              " 'I-Published_dates': 15,\n",
              " 'I-Host_Information': 16,\n",
              " 'I-Risk': 17,\n",
              " 'I-CVE': 18,\n",
              " 'I-Remote/Local': 19,\n",
              " 'I-Vendor': 20}"
            ]
          },
          "metadata": {},
          "execution_count": 54
        }
      ],
      "source": [
        "label2id = {k: v for v, k in enumerate(data.Tag.unique())}\n",
        "id2label = {v: k for v, k in enumerate(data.Tag.unique())}\n",
        "label2id"
      ]
    },
    {
      "cell_type": "markdown",
      "metadata": {
        "id": "J08Cvk_USgbM"
      },
      "source": [
        "As we can see, there are now only 10 different tags.\n",
        "\n",
        "Let's only keep the \"sentence\" and \"word_labels\" columns, and drop duplicates:"
      ]
    },
    {
      "cell_type": "code",
      "execution_count": null,
      "metadata": {
        "colab": {
          "base_uri": "https://localhost:8080/",
          "height": 831
        },
        "id": "SrEgd4PZUgmF",
        "outputId": "e6df288c-f31a-47d8-8056-52034d2ace56"
      },
      "outputs": [
        {
          "output_type": "execute_result",
          "data": {
            "text/plain": [
              "                                                                                                                                                                                                                                                                                                                                                                                                                                                                                                                                                                                                                                                                                                                                                                                                                                                                                                                                                                                                                                  sentence  \\\n",
              "0  SQL ---------------------------------------------------------------------------- SQL Command SQL CommandPost SQL SQL Command the SQL is Command CommandPost SQL SQL web Command SQL SQL investigating. by Command ---------------------------------------------------------------------------- CommandPost Command CommandPost Command CommandPost Remote Command -------------------------------------------------------------------------------- SQL of SQL SQL Command Command SQL SQL Command to Command CommandPost CommandPost Remote web CommandPost SQL ---------------------------------------------------------------------------- CommandPost ---------------------------------------------------------------------------- SQL injection** appliance Remote appliance Remote Command Remote this Command Command CommandPost SQL Command I -------------------------------------------------------------------------------- Command SQL Command Command -----------------------------------------------------------------...   \n",
              "1                                                                                                                                                                                                                                                                                                                                                                                                                                                                                                                                                                                                                                                                                                                                                                                                                                                                                                                                                                                                      5.8 5.8 5.8 5.8 5.8 5.8 5.8 5.8 5.8   \n",
              "2                                                                                                                                                                                                                                                                                                                                                                                                                                                                                                                                                                                                                                                                                                                                                                                                                     network adjacent 8.6 **CVSSv3 CVE-2021-20145 **CVSSv3 **CVSSv3 Score:** CVE-2021-20145 Base CVE-2021-20145 **CVSSv3 access adjacent adjacent **CVSSv3 **CVSSv3 Unprotected CVE-2021-20145 **CVSSv3 **CVSSv3 **CVSSv3   \n",
              "3                                                                                                                                                                                                                                                                                                                                                                                                              2017-11-15 WKE2.094.277A01 FiberHome FiberHome RP2602: HG6245D 2017-11-15 Hardware 2018-04-13 HG6245D 2018-04-13 routers RP2602: FiberHome FiberHome 2017-11-15 2018-04-13 FiberHome 2018-04-13 RP2602: routers version firmware FiberHome HG6245D, FiberHome 2017-11-15 FiberHome 2018-04-13 HG6245D FiberHome FiberHome America HG6245D FiberHome Technologies 2017-11-15 FiberHome FiberHome RP2602: HG6245D, FiberHome 2017-11-15 vendor 2017-11-15 2018-04-13 HG6245D : HG6245D vulnerabilities FiberHome FiberHome FiberHome FiberHome FiberHome FiberHome routers FiberHome FiberHome FiberHome 2018-04-13 FiberHome   \n",
              "4                                                                                                                                                                                                                                                                                                                                                                                                                                                                                                                                                                                                                                                                                                                                                                                                                                                                                                                                                                                                                               passwords.   \n",
              "\n",
              "                                                                                                                                                                                                                                                                                                                                                                                                                                                                                                                                                                                                                                                                                                                                                                                                                                                                                                                                                                                                                               word_labels  \n",
              "0  B-Remote/Local,B-CVE,B-Remote/Local,B-Remote/Local,B-Remote/Local,B-Vendor,B-Remote/Local,B-Remote/Local,B-Remote/Local,O,B-Remote/Local,O,B-Remote/Local,B-Vendor,B-Remote/Local,B-Remote/Local,B-Product,B-Remote/Local,B-Remote/Local,B-Remote/Local,O,O,B-Remote/Local,B-CVE,B-Vendor,B-Remote/Local,B-Vendor,B-Remote/Local,B-Vendor,B-Vulnerability_Type,B-Remote/Local,B-CVE,B-Remote/Local,O,B-Remote/Local,B-Remote/Local,B-Remote/Local,B-Remote/Local,B-Remote/Local,B-Remote/Local,B-Remote/Local,O,B-Remote/Local,B-Vendor,B-Vendor,B-Vulnerability_Type,B-Product,B-Vendor,B-Remote/Local,B-CVE,B-Vendor,B-CVE,B-Remote/Local,I-Vulnerability_Type,B-Product,B-Vulnerability_Type,B-Product,B-Vulnerability_Type,B-Remote/Local,B-Vulnerability_Type,O,B-Remote/Local,B-Remote/Local,B-Vendor,B-Remote/Local,B-Remote/Local,O,B-CVE,B-Remote/Local,B-Remote/Local,B-Remote/Local,B-Remote/Local,B-CVE,O,B-Remote/Local,B-Vulnerability_Type,B-Remote/Local,B-Remote/Local,B-Vendor,B-Vendor,I-Vulnerability_Type,B-Rem...  \n",
              "1                                                                                                                                                                                                                                                                                                                                                                                                                                                                                                                                                                                                                                                                                                                                                                                                                                                                                                                                                                           B-Risk,B-Risk,B-Risk,B-Risk,B-Risk,B-Risk,B-Risk,B-Risk,B-Risk  \n",
              "2                                                                                                                                                                                                                                                                                                                                                                                                                                                                                                                                                                                                                                                                                                                                                                                                                   I-Vulnerability_Type,B-Vulnerability_Type,I-Risk,B-Risk,B-CVE,B-Risk,B-Risk,I-Risk,B-CVE,I-Risk,B-CVE,B-Risk,I-Vulnerability_Type,B-Vulnerability_Type,B-Vulnerability_Type,B-Risk,B-Risk,O,B-CVE,B-Risk,B-Risk,B-Risk  \n",
              "3                                                                                                                                                                                                                                                                       B-Published_dates,I-Host_Information,B-Vendor,B-Vendor,B-Version_Number,B-Product,B-Published_dates,B-Host_Information,B-Published_dates,B-Product,B-Published_dates,I-Product,B-Version_Number,B-Vendor,B-Vendor,B-Published_dates,B-Published_dates,B-Vendor,B-Published_dates,B-Version_Number,I-Product,I-Host_Information,O,B-Vendor,B-Product,B-Vendor,B-Published_dates,B-Vendor,B-Published_dates,B-Product,B-Vendor,B-Vendor,O,B-Product,B-Vendor,I-Vendor,B-Published_dates,B-Vendor,B-Vendor,B-Version_Number,B-Product,B-Vendor,B-Published_dates,O,B-Published_dates,B-Published_dates,B-Product,I-Host_Information,B-Product,O,B-Vendor,B-Vendor,B-Vendor,B-Vendor,B-Vendor,B-Vendor,I-Product,B-Vendor,B-Vendor,B-Vendor,B-Published_dates,B-Vendor  \n",
              "4                                                                                                                                                                                                                                                                                                                                                                                                                                                                                                                                                                                                                                                                                                                                                                                                                                                                                                                                                                                                                                        O  "
            ],
            "text/html": [
              "\n",
              "  <div id=\"df-e8c6d89f-73cf-4c3f-ae61-2f4d77f45f5b\" class=\"colab-df-container\">\n",
              "    <div>\n",
              "<style scoped>\n",
              "    .dataframe tbody tr th:only-of-type {\n",
              "        vertical-align: middle;\n",
              "    }\n",
              "\n",
              "    .dataframe tbody tr th {\n",
              "        vertical-align: top;\n",
              "    }\n",
              "\n",
              "    .dataframe thead th {\n",
              "        text-align: right;\n",
              "    }\n",
              "</style>\n",
              "<table border=\"1\" class=\"dataframe\">\n",
              "  <thead>\n",
              "    <tr style=\"text-align: right;\">\n",
              "      <th></th>\n",
              "      <th>sentence</th>\n",
              "      <th>word_labels</th>\n",
              "    </tr>\n",
              "  </thead>\n",
              "  <tbody>\n",
              "    <tr>\n",
              "      <th>0</th>\n",
              "      <td>SQL ---------------------------------------------------------------------------- SQL Command SQL CommandPost SQL SQL Command the SQL is Command CommandPost SQL SQL web Command SQL SQL investigating. by Command ---------------------------------------------------------------------------- CommandPost Command CommandPost Command CommandPost Remote Command -------------------------------------------------------------------------------- SQL of SQL SQL Command Command SQL SQL Command to Command CommandPost CommandPost Remote web CommandPost SQL ---------------------------------------------------------------------------- CommandPost ---------------------------------------------------------------------------- SQL injection** appliance Remote appliance Remote Command Remote this Command Command CommandPost SQL Command I -------------------------------------------------------------------------------- Command SQL Command Command -----------------------------------------------------------------...</td>\n",
              "      <td>B-Remote/Local,B-CVE,B-Remote/Local,B-Remote/Local,B-Remote/Local,B-Vendor,B-Remote/Local,B-Remote/Local,B-Remote/Local,O,B-Remote/Local,O,B-Remote/Local,B-Vendor,B-Remote/Local,B-Remote/Local,B-Product,B-Remote/Local,B-Remote/Local,B-Remote/Local,O,O,B-Remote/Local,B-CVE,B-Vendor,B-Remote/Local,B-Vendor,B-Remote/Local,B-Vendor,B-Vulnerability_Type,B-Remote/Local,B-CVE,B-Remote/Local,O,B-Remote/Local,B-Remote/Local,B-Remote/Local,B-Remote/Local,B-Remote/Local,B-Remote/Local,B-Remote/Local,O,B-Remote/Local,B-Vendor,B-Vendor,B-Vulnerability_Type,B-Product,B-Vendor,B-Remote/Local,B-CVE,B-Vendor,B-CVE,B-Remote/Local,I-Vulnerability_Type,B-Product,B-Vulnerability_Type,B-Product,B-Vulnerability_Type,B-Remote/Local,B-Vulnerability_Type,O,B-Remote/Local,B-Remote/Local,B-Vendor,B-Remote/Local,B-Remote/Local,O,B-CVE,B-Remote/Local,B-Remote/Local,B-Remote/Local,B-Remote/Local,B-CVE,O,B-Remote/Local,B-Vulnerability_Type,B-Remote/Local,B-Remote/Local,B-Vendor,B-Vendor,I-Vulnerability_Type,B-Rem...</td>\n",
              "    </tr>\n",
              "    <tr>\n",
              "      <th>1</th>\n",
              "      <td>5.8 5.8 5.8 5.8 5.8 5.8 5.8 5.8 5.8</td>\n",
              "      <td>B-Risk,B-Risk,B-Risk,B-Risk,B-Risk,B-Risk,B-Risk,B-Risk,B-Risk</td>\n",
              "    </tr>\n",
              "    <tr>\n",
              "      <th>2</th>\n",
              "      <td>network adjacent 8.6 **CVSSv3 CVE-2021-20145 **CVSSv3 **CVSSv3 Score:** CVE-2021-20145 Base CVE-2021-20145 **CVSSv3 access adjacent adjacent **CVSSv3 **CVSSv3 Unprotected CVE-2021-20145 **CVSSv3 **CVSSv3 **CVSSv3</td>\n",
              "      <td>I-Vulnerability_Type,B-Vulnerability_Type,I-Risk,B-Risk,B-CVE,B-Risk,B-Risk,I-Risk,B-CVE,I-Risk,B-CVE,B-Risk,I-Vulnerability_Type,B-Vulnerability_Type,B-Vulnerability_Type,B-Risk,B-Risk,O,B-CVE,B-Risk,B-Risk,B-Risk</td>\n",
              "    </tr>\n",
              "    <tr>\n",
              "      <th>3</th>\n",
              "      <td>2017-11-15 WKE2.094.277A01 FiberHome FiberHome RP2602: HG6245D 2017-11-15 Hardware 2018-04-13 HG6245D 2018-04-13 routers RP2602: FiberHome FiberHome 2017-11-15 2018-04-13 FiberHome 2018-04-13 RP2602: routers version firmware FiberHome HG6245D, FiberHome 2017-11-15 FiberHome 2018-04-13 HG6245D FiberHome FiberHome America HG6245D FiberHome Technologies 2017-11-15 FiberHome FiberHome RP2602: HG6245D, FiberHome 2017-11-15 vendor 2017-11-15 2018-04-13 HG6245D : HG6245D vulnerabilities FiberHome FiberHome FiberHome FiberHome FiberHome FiberHome routers FiberHome FiberHome FiberHome 2018-04-13 FiberHome</td>\n",
              "      <td>B-Published_dates,I-Host_Information,B-Vendor,B-Vendor,B-Version_Number,B-Product,B-Published_dates,B-Host_Information,B-Published_dates,B-Product,B-Published_dates,I-Product,B-Version_Number,B-Vendor,B-Vendor,B-Published_dates,B-Published_dates,B-Vendor,B-Published_dates,B-Version_Number,I-Product,I-Host_Information,O,B-Vendor,B-Product,B-Vendor,B-Published_dates,B-Vendor,B-Published_dates,B-Product,B-Vendor,B-Vendor,O,B-Product,B-Vendor,I-Vendor,B-Published_dates,B-Vendor,B-Vendor,B-Version_Number,B-Product,B-Vendor,B-Published_dates,O,B-Published_dates,B-Published_dates,B-Product,I-Host_Information,B-Product,O,B-Vendor,B-Vendor,B-Vendor,B-Vendor,B-Vendor,B-Vendor,I-Product,B-Vendor,B-Vendor,B-Vendor,B-Published_dates,B-Vendor</td>\n",
              "    </tr>\n",
              "    <tr>\n",
              "      <th>4</th>\n",
              "      <td>passwords.</td>\n",
              "      <td>O</td>\n",
              "    </tr>\n",
              "  </tbody>\n",
              "</table>\n",
              "</div>\n",
              "    <div class=\"colab-df-buttons\">\n",
              "\n",
              "  <div class=\"colab-df-container\">\n",
              "    <button class=\"colab-df-convert\" onclick=\"convertToInteractive('df-e8c6d89f-73cf-4c3f-ae61-2f4d77f45f5b')\"\n",
              "            title=\"Convert this dataframe to an interactive table.\"\n",
              "            style=\"display:none;\">\n",
              "\n",
              "  <svg xmlns=\"http://www.w3.org/2000/svg\" height=\"24px\" viewBox=\"0 -960 960 960\">\n",
              "    <path d=\"M120-120v-720h720v720H120Zm60-500h600v-160H180v160Zm220 220h160v-160H400v160Zm0 220h160v-160H400v160ZM180-400h160v-160H180v160Zm440 0h160v-160H620v160ZM180-180h160v-160H180v160Zm440 0h160v-160H620v160Z\"/>\n",
              "  </svg>\n",
              "    </button>\n",
              "\n",
              "  <style>\n",
              "    .colab-df-container {\n",
              "      display:flex;\n",
              "      gap: 12px;\n",
              "    }\n",
              "\n",
              "    .colab-df-convert {\n",
              "      background-color: #E8F0FE;\n",
              "      border: none;\n",
              "      border-radius: 50%;\n",
              "      cursor: pointer;\n",
              "      display: none;\n",
              "      fill: #1967D2;\n",
              "      height: 32px;\n",
              "      padding: 0 0 0 0;\n",
              "      width: 32px;\n",
              "    }\n",
              "\n",
              "    .colab-df-convert:hover {\n",
              "      background-color: #E2EBFA;\n",
              "      box-shadow: 0px 1px 2px rgba(60, 64, 67, 0.3), 0px 1px 3px 1px rgba(60, 64, 67, 0.15);\n",
              "      fill: #174EA6;\n",
              "    }\n",
              "\n",
              "    .colab-df-buttons div {\n",
              "      margin-bottom: 4px;\n",
              "    }\n",
              "\n",
              "    [theme=dark] .colab-df-convert {\n",
              "      background-color: #3B4455;\n",
              "      fill: #D2E3FC;\n",
              "    }\n",
              "\n",
              "    [theme=dark] .colab-df-convert:hover {\n",
              "      background-color: #434B5C;\n",
              "      box-shadow: 0px 1px 3px 1px rgba(0, 0, 0, 0.15);\n",
              "      filter: drop-shadow(0px 1px 2px rgba(0, 0, 0, 0.3));\n",
              "      fill: #FFFFFF;\n",
              "    }\n",
              "  </style>\n",
              "\n",
              "    <script>\n",
              "      const buttonEl =\n",
              "        document.querySelector('#df-e8c6d89f-73cf-4c3f-ae61-2f4d77f45f5b button.colab-df-convert');\n",
              "      buttonEl.style.display =\n",
              "        google.colab.kernel.accessAllowed ? 'block' : 'none';\n",
              "\n",
              "      async function convertToInteractive(key) {\n",
              "        const element = document.querySelector('#df-e8c6d89f-73cf-4c3f-ae61-2f4d77f45f5b');\n",
              "        const dataTable =\n",
              "          await google.colab.kernel.invokeFunction('convertToInteractive',\n",
              "                                                    [key], {});\n",
              "        if (!dataTable) return;\n",
              "\n",
              "        const docLinkHtml = 'Like what you see? Visit the ' +\n",
              "          '<a target=\"_blank\" href=https://colab.research.google.com/notebooks/data_table.ipynb>data table notebook</a>'\n",
              "          + ' to learn more about interactive tables.';\n",
              "        element.innerHTML = '';\n",
              "        dataTable['output_type'] = 'display_data';\n",
              "        await google.colab.output.renderOutput(dataTable, element);\n",
              "        const docLink = document.createElement('div');\n",
              "        docLink.innerHTML = docLinkHtml;\n",
              "        element.appendChild(docLink);\n",
              "      }\n",
              "    </script>\n",
              "  </div>\n",
              "\n",
              "\n",
              "<div id=\"df-5a55002c-0a9e-48e6-bbff-c2cffe8c7997\">\n",
              "  <button class=\"colab-df-quickchart\" onclick=\"quickchart('df-5a55002c-0a9e-48e6-bbff-c2cffe8c7997')\"\n",
              "            title=\"Suggest charts\"\n",
              "            style=\"display:none;\">\n",
              "\n",
              "<svg xmlns=\"http://www.w3.org/2000/svg\" height=\"24px\"viewBox=\"0 0 24 24\"\n",
              "     width=\"24px\">\n",
              "    <g>\n",
              "        <path d=\"M19 3H5c-1.1 0-2 .9-2 2v14c0 1.1.9 2 2 2h14c1.1 0 2-.9 2-2V5c0-1.1-.9-2-2-2zM9 17H7v-7h2v7zm4 0h-2V7h2v10zm4 0h-2v-4h2v4z\"/>\n",
              "    </g>\n",
              "</svg>\n",
              "  </button>\n",
              "\n",
              "<style>\n",
              "  .colab-df-quickchart {\n",
              "      --bg-color: #E8F0FE;\n",
              "      --fill-color: #1967D2;\n",
              "      --hover-bg-color: #E2EBFA;\n",
              "      --hover-fill-color: #174EA6;\n",
              "      --disabled-fill-color: #AAA;\n",
              "      --disabled-bg-color: #DDD;\n",
              "  }\n",
              "\n",
              "  [theme=dark] .colab-df-quickchart {\n",
              "      --bg-color: #3B4455;\n",
              "      --fill-color: #D2E3FC;\n",
              "      --hover-bg-color: #434B5C;\n",
              "      --hover-fill-color: #FFFFFF;\n",
              "      --disabled-bg-color: #3B4455;\n",
              "      --disabled-fill-color: #666;\n",
              "  }\n",
              "\n",
              "  .colab-df-quickchart {\n",
              "    background-color: var(--bg-color);\n",
              "    border: none;\n",
              "    border-radius: 50%;\n",
              "    cursor: pointer;\n",
              "    display: none;\n",
              "    fill: var(--fill-color);\n",
              "    height: 32px;\n",
              "    padding: 0;\n",
              "    width: 32px;\n",
              "  }\n",
              "\n",
              "  .colab-df-quickchart:hover {\n",
              "    background-color: var(--hover-bg-color);\n",
              "    box-shadow: 0 1px 2px rgba(60, 64, 67, 0.3), 0 1px 3px 1px rgba(60, 64, 67, 0.15);\n",
              "    fill: var(--button-hover-fill-color);\n",
              "  }\n",
              "\n",
              "  .colab-df-quickchart-complete:disabled,\n",
              "  .colab-df-quickchart-complete:disabled:hover {\n",
              "    background-color: var(--disabled-bg-color);\n",
              "    fill: var(--disabled-fill-color);\n",
              "    box-shadow: none;\n",
              "  }\n",
              "\n",
              "  .colab-df-spinner {\n",
              "    border: 2px solid var(--fill-color);\n",
              "    border-color: transparent;\n",
              "    border-bottom-color: var(--fill-color);\n",
              "    animation:\n",
              "      spin 1s steps(1) infinite;\n",
              "  }\n",
              "\n",
              "  @keyframes spin {\n",
              "    0% {\n",
              "      border-color: transparent;\n",
              "      border-bottom-color: var(--fill-color);\n",
              "      border-left-color: var(--fill-color);\n",
              "    }\n",
              "    20% {\n",
              "      border-color: transparent;\n",
              "      border-left-color: var(--fill-color);\n",
              "      border-top-color: var(--fill-color);\n",
              "    }\n",
              "    30% {\n",
              "      border-color: transparent;\n",
              "      border-left-color: var(--fill-color);\n",
              "      border-top-color: var(--fill-color);\n",
              "      border-right-color: var(--fill-color);\n",
              "    }\n",
              "    40% {\n",
              "      border-color: transparent;\n",
              "      border-right-color: var(--fill-color);\n",
              "      border-top-color: var(--fill-color);\n",
              "    }\n",
              "    60% {\n",
              "      border-color: transparent;\n",
              "      border-right-color: var(--fill-color);\n",
              "    }\n",
              "    80% {\n",
              "      border-color: transparent;\n",
              "      border-right-color: var(--fill-color);\n",
              "      border-bottom-color: var(--fill-color);\n",
              "    }\n",
              "    90% {\n",
              "      border-color: transparent;\n",
              "      border-bottom-color: var(--fill-color);\n",
              "    }\n",
              "  }\n",
              "</style>\n",
              "\n",
              "  <script>\n",
              "    async function quickchart(key) {\n",
              "      const quickchartButtonEl =\n",
              "        document.querySelector('#' + key + ' button');\n",
              "      quickchartButtonEl.disabled = true;  // To prevent multiple clicks.\n",
              "      quickchartButtonEl.classList.add('colab-df-spinner');\n",
              "      try {\n",
              "        const charts = await google.colab.kernel.invokeFunction(\n",
              "            'suggestCharts', [key], {});\n",
              "      } catch (error) {\n",
              "        console.error('Error during call to suggestCharts:', error);\n",
              "      }\n",
              "      quickchartButtonEl.classList.remove('colab-df-spinner');\n",
              "      quickchartButtonEl.classList.add('colab-df-quickchart-complete');\n",
              "    }\n",
              "    (() => {\n",
              "      let quickchartButtonEl =\n",
              "        document.querySelector('#df-5a55002c-0a9e-48e6-bbff-c2cffe8c7997 button');\n",
              "      quickchartButtonEl.style.display =\n",
              "        google.colab.kernel.accessAllowed ? 'block' : 'none';\n",
              "    })();\n",
              "  </script>\n",
              "</div>\n",
              "    </div>\n",
              "  </div>\n"
            ]
          },
          "metadata": {},
          "execution_count": 55
        }
      ],
      "source": [
        "data = data[[\"sentence\", \"word_labels\"]].drop_duplicates().reset_index(drop=True)\n",
        "data.head()"
      ]
    },
    {
      "cell_type": "code",
      "execution_count": null,
      "metadata": {
        "colab": {
          "base_uri": "https://localhost:8080/"
        },
        "id": "r3ArUiVRqw0C",
        "outputId": "ad499e6f-19ea-4ca8-b8c9-01fad1ea16b9"
      },
      "outputs": [
        {
          "output_type": "execute_result",
          "data": {
            "text/plain": [
              "7565"
            ]
          },
          "metadata": {},
          "execution_count": 56
        }
      ],
      "source": [
        "len(data)"
      ]
    },
    {
      "cell_type": "markdown",
      "metadata": {
        "id": "U8obZumRTBrT"
      },
      "source": [
        "Let's verify that a random sentence and its corresponding tags are correct:"
      ]
    },
    {
      "cell_type": "code",
      "execution_count": null,
      "metadata": {
        "colab": {
          "base_uri": "https://localhost:8080/",
          "height": 139
        },
        "id": "eUvupomW_fbe",
        "outputId": "6672db49-0e44-48e3-ad65-c34f609c2eb1"
      },
      "outputs": [
        {
          "output_type": "execute_result",
          "data": {
            "text/plain": [
              "'CVE-2021-40400 cryptographic Hard February CVE 2019-10-22 CVE-2021-40400 2019-10-22 2019-10-22 2020-02-24 2020-02-24 2020-02-24 CVE-2021-40400 Gerbv 0x18($v1) read Hard 27c20018 2.7.0 = February February keys = Hurd 2019-10-22 ``` = lwl 2.7.0 read local out-of-bounds = $sp 2022 2.7.0 February afc20034 244377b8 $a0, CVE Number 2020-02-24 [0x1f] 2020-02-24 [0x6] February 8fc60044 2020-02-24 coded Release 2.7.0 RS-274X Gerbv Hard vulnerability out-of-bounds aperture CVE vulnerability CVE Gerbv CVE-2021-40400 2020-02-24 out-of-bounds = 2019-10-22 key February 28, 2019-10-22 out-of-bounds February out-of-bounds out-of-bounds Gerbv 2019-10-22'"
            ],
            "application/vnd.google.colaboratory.intrinsic+json": {
              "type": "string"
            }
          },
          "metadata": {},
          "execution_count": 57
        }
      ],
      "source": [
        "data.iloc[41].sentence"
      ]
    },
    {
      "cell_type": "code",
      "execution_count": null,
      "metadata": {
        "id": "0dLyY3Oi_lvp"
      },
      "outputs": [],
      "source": [
        "data.iloc[41].word_labels"
      ]
    },
    {
      "cell_type": "markdown",
      "metadata": {
        "id": "f5EHpuB78pIa"
      },
      "source": [
        "#### **Preparing the dataset and dataloader**"
      ]
    },
    {
      "cell_type": "markdown",
      "metadata": {
        "id": "15x7zmZnTgFx"
      },
      "source": [
        "Now that our data is preprocessed, we can turn it into PyTorch tensors such that we can provide it to the model. Let's start by defining some key variables that will be used later on in the training/evaluation process:"
      ]
    },
    {
      "cell_type": "code",
      "execution_count": null,
      "metadata": {
        "id": "lgNSM8Xz79Mg"
      },
      "outputs": [],
      "source": [
        "MAX_LEN = 128\n",
        "TRAIN_BATCH_SIZE = 4\n",
        "VALID_BATCH_SIZE = 2\n",
        "EPOCHS = 10\n",
        "LEARNING_RATE = 1e-05\n",
        "MAX_GRAD_NORM = 10\n",
        "tokenizer = AutoTokenizer.from_pretrained('jackaduma/SecBERT')"
      ]
    },
    {
      "cell_type": "markdown",
      "metadata": {
        "id": "wPYV2Ld6Tr5I"
      },
      "source": [
        "A tricky part of NER with BERT is that BERT relies on **wordpiece tokenization**, rather than word tokenization. This means that we should also define the labels at the wordpiece-level, rather than the word-level!\n",
        "\n",
        "For example, if you have word like \"Washington\" which is labeled as \"b-gpe\", but it gets tokenized to \"Wash\", \"##ing\", \"##ton\", then we will have to propagate the word’s original label to all of its wordpieces: \"b-gpe\", \"b-gpe\", \"b-gpe\". The model should be able to produce the correct labels for each individual wordpiece. The function below (taken from [here](https://github.com/chambliss/Multilingual_NER/blob/master/python/utils/main_utils.py#L118)) implements this.\n",
        "\n",
        "\n",
        "\n",
        "\n"
      ]
    },
    {
      "cell_type": "code",
      "execution_count": null,
      "metadata": {
        "id": "RNzSgZTfGUd8"
      },
      "outputs": [],
      "source": [
        "def tokenize_and_preserve_labels(sentence, text_labels, tokenizer):\n",
        "    \"\"\"\n",
        "    Word piece tokenization makes it difficult to match word labels\n",
        "    back up with individual word pieces. This function tokenizes each\n",
        "    word one at a time so that it is easier to preserve the correct\n",
        "    label for each subword. It is, of course, a bit slower in processing\n",
        "    time, but it will help our model achieve higher accuracy.\n",
        "    \"\"\"\n",
        "\n",
        "    tokenized_sentence = []\n",
        "    labels = []\n",
        "\n",
        "    sentence = sentence.strip()\n",
        "\n",
        "    for word, label in zip(sentence.split(), text_labels.split(\",\")):\n",
        "\n",
        "        # Tokenize the word and count # of subwords the word is broken into\n",
        "        tokenized_word = tokenizer.tokenize(word)\n",
        "        n_subwords = len(tokenized_word)\n",
        "\n",
        "        # Add the tokenized word to the final tokenized word list\n",
        "        tokenized_sentence.extend(tokenized_word)\n",
        "\n",
        "        # Add the same label to the new list of labels `n_subwords` times\n",
        "        labels.extend([label] * n_subwords)\n",
        "\n",
        "    return tokenized_sentence, labels"
      ]
    },
    {
      "cell_type": "markdown",
      "metadata": {
        "id": "ez7qlFHl56ZW"
      },
      "source": [
        "Note that this is a **design decision**. You could also decide to only label the first wordpiece of each word and let the model only learn this (this is what was done in the original BERT paper, see Github discussion [here](https://github.com/huggingface/transformers/issues/64#issuecomment-443703063)). Another design decision could be to give the first wordpiece of each word the original word label, and then use the label “X” for all subsequent subwords of that word.\n",
        "\n",
        "All of them lead to good performance.\n",
        "\n",
        "Next, we define a regular PyTorch [dataset class](https://pytorch.org/docs/stable/data.html) (which transforms examples of a dataframe to PyTorch tensors). Here, each sentence gets tokenized, the special tokens that BERT expects are added, the tokens are padded or truncated based on the max length of the model, the attention mask is created and the labels are created based on the dictionary which we defined above.\n",
        "\n",
        "For more information about BERT's inputs, see [here](https://huggingface.co/transformers/glossary.html).  "
      ]
    },
    {
      "cell_type": "code",
      "execution_count": null,
      "metadata": {
        "colab": {
          "base_uri": "https://localhost:8080/",
          "height": 449
        },
        "id": "5PZozCXENHDP",
        "outputId": "92a2236b-0bee-42a0-f72b-fbd62c99c93b"
      },
      "outputs": [
        {
          "output_type": "display_data",
          "data": {
            "text/plain": [
              "<Figure size 640x480 with 1 Axes>"
            ],
            "image/png": "[encoded data removed]"
          },
          "metadata": {}
        }
      ],
      "source": [
        "# ADDED 10/30\n",
        "# Code to check distribution of token lengths in the dataset\n",
        "token_lengths = []\n",
        "\n",
        "for _, row in data.iterrows():\n",
        "    tokenized_sentence, _ = tokenize_and_preserve_labels(row['sentence'], row['word_labels'], tokenizer)\n",
        "    token_lengths.append(len(tokenized_sentence))\n",
        "\n",
        "# Now, let's visualize the distribution\n",
        "import matplotlib.pyplot as plt\n",
        "\n",
        "plt.hist(token_lengths, bins=50)\n",
        "plt.xlabel('Token count')\n",
        "plt.ylabel('Number of sentences')\n",
        "plt.show()"
      ]
    },
    {
      "cell_type": "code",
      "execution_count": null,
      "metadata": {
        "id": "aJty_Abw8_xK"
      },
      "outputs": [],
      "source": [
        "class dataset(Dataset):\n",
        "    def __init__(self, dataframe, tokenizer, max_len):\n",
        "        self.len = len(dataframe)\n",
        "        self.data = dataframe\n",
        "        self.tokenizer = tokenizer\n",
        "        self.max_len = max_len\n",
        "\n",
        "    def __getitem__(self, index):\n",
        "        # step 1: tokenize (and adapt corresponding labels)\n",
        "        sentence = self.data.sentence[index]\n",
        "        word_labels = self.data.word_labels[index]\n",
        "        tokenized_sentence, labels = tokenize_and_preserve_labels(sentence, word_labels, self.tokenizer)\n",
        "\n",
        "        # step 2: add special tokens (and corresponding labels)\n",
        "        tokenized_sentence = [\"[CLS]\"] + tokenized_sentence + [\"[SEP]\"] # add special tokens\n",
        "        labels.insert(0, \"O\") # add outside label for [CLS] token\n",
        "        labels.insert(-1, \"O\") # add outside label for [SEP] token\n",
        "\n",
        "        # step 3: truncating/padding\n",
        "        maxlen = self.max_len\n",
        "\n",
        "        if (len(tokenized_sentence) > maxlen):\n",
        "          # truncate\n",
        "          tokenized_sentence = tokenized_sentence[:maxlen]\n",
        "          labels = labels[:maxlen]\n",
        "        else:\n",
        "          # pad\n",
        "          tokenized_sentence = tokenized_sentence + ['[PAD]'for _ in range(maxlen - len(tokenized_sentence))]\n",
        "          labels = labels + [\"O\" for _ in range(maxlen - len(labels))]\n",
        "\n",
        "        # step 4: obtain the attention mask\n",
        "        attn_mask = [1 if tok != '[PAD]' else 0 for tok in tokenized_sentence]\n",
        "\n",
        "        # step 5: convert tokens to input ids\n",
        "        ids = self.tokenizer.convert_tokens_to_ids(tokenized_sentence)\n",
        "\n",
        "        label_ids = [label2id[label] for label in labels]\n",
        "        # the following line is deprecated\n",
        "        #label_ids = [label if label != 0 else -100 for label in label_ids]\n",
        "\n",
        "        return {\n",
        "              'ids': torch.tensor(ids, dtype=torch.long),\n",
        "              'mask': torch.tensor(attn_mask, dtype=torch.long),\n",
        "              #'token_type_ids': torch.tensor(token_ids, dtype=torch.long),\n",
        "              'targets': torch.tensor(label_ids, dtype=torch.long)\n",
        "        }\n",
        "\n",
        "    def __len__(self):\n",
        "        return self.len"
      ]
    },
    {
      "cell_type": "markdown",
      "metadata": {
        "id": "hTP7zuWGWGUd"
      },
      "source": [
        "Now, based on the class we defined above, we can create 2 datasets, one for training and one for testing. Let's use a 80/20 split:"
      ]
    },
    {
      "cell_type": "code",
      "execution_count": null,
      "metadata": {
        "colab": {
          "base_uri": "https://localhost:8080/"
        },
        "id": "jrkdZBLYHVcB",
        "outputId": "a61ba7d5-caff-4774-ac17-de2405aa649a"
      },
      "outputs": [
        {
          "output_type": "stream",
          "name": "stdout",
          "text": [
            "FULL Dataset: (7565, 2)\n",
            "TRAIN Dataset: (6052, 2)\n",
            "TEST Dataset: (1513, 2)\n"
          ]
        }
      ],
      "source": [
        "train_size = 0.8\n",
        "train_dataset = data.sample(frac=train_size,random_state=200)\n",
        "test_dataset = data.drop(train_dataset.index).reset_index(drop=True)\n",
        "train_dataset = train_dataset.reset_index(drop=True)\n",
        "\n",
        "print(\"FULL Dataset: {}\".format(data.shape))\n",
        "print(\"TRAIN Dataset: {}\".format(train_dataset.shape))\n",
        "print(\"TEST Dataset: {}\".format(test_dataset.shape))\n",
        "\n",
        "training_set = dataset(train_dataset, tokenizer, MAX_LEN)\n",
        "testing_set = dataset(test_dataset, tokenizer, MAX_LEN)"
      ]
    },
    {
      "cell_type": "markdown",
      "metadata": {
        "id": "Ptv5AT_iTb7W"
      },
      "source": [
        "Let's have a look at the first training example:"
      ]
    },
    {
      "cell_type": "code",
      "execution_count": null,
      "metadata": {
        "colab": {
          "base_uri": "https://localhost:8080/"
        },
        "id": "phmPylgAm8Xy",
        "outputId": "9863159f-c333-42c3-813a-d80e9b38b775"
      },
      "outputs": [
        {
          "output_type": "execute_result",
          "data": {
            "text/plain": [
              "{'ids': tensor([    2,    37,  5992,    39,    12,  3771,    30,    19,    19,  5992,\n",
              "            18, 34861, 12258,  3815,    18,  1440,    13,     3,     0,     0,\n",
              "             0,     0,     0,     0,     0,     0,     0,     0,     0,     0,\n",
              "             0,     0,     0,     0,     0,     0,     0,     0,     0,     0,\n",
              "             0,     0,     0,     0,     0,     0,     0,     0,     0,     0,\n",
              "             0,     0,     0,     0,     0,     0,     0,     0,     0,     0,\n",
              "             0,     0,     0,     0,     0,     0,     0,     0,     0,     0,\n",
              "             0,     0,     0,     0,     0,     0,     0,     0,     0,     0,\n",
              "             0,     0,     0,     0,     0,     0,     0,     0,     0,     0,\n",
              "             0,     0,     0,     0,     0,     0,     0,     0,     0,     0,\n",
              "             0,     0,     0,     0,     0,     0,     0,     0,     0,     0,\n",
              "             0,     0,     0,     0,     0,     0,     0,     0,     0,     0,\n",
              "             0,     0,     0,     0,     0,     0,     0,     0]),\n",
              " 'mask': tensor([1, 1, 1, 1, 1, 1, 1, 1, 1, 1, 1, 1, 1, 1, 1, 1, 1, 1, 0, 0, 0, 0, 0, 0,\n",
              "         0, 0, 0, 0, 0, 0, 0, 0, 0, 0, 0, 0, 0, 0, 0, 0, 0, 0, 0, 0, 0, 0, 0, 0,\n",
              "         0, 0, 0, 0, 0, 0, 0, 0, 0, 0, 0, 0, 0, 0, 0, 0, 0, 0, 0, 0, 0, 0, 0, 0,\n",
              "         0, 0, 0, 0, 0, 0, 0, 0, 0, 0, 0, 0, 0, 0, 0, 0, 0, 0, 0, 0, 0, 0, 0, 0,\n",
              "         0, 0, 0, 0, 0, 0, 0, 0, 0, 0, 0, 0, 0, 0, 0, 0, 0, 0, 0, 0, 0, 0, 0, 0,\n",
              "         0, 0, 0, 0, 0, 0, 0, 0]),\n",
              " 'targets': tensor([4, 4, 4, 4, 4, 4, 4, 4, 4, 4, 4, 4, 4, 4, 4, 4, 4, 4, 4, 4, 4, 4, 4, 4,\n",
              "         4, 4, 4, 4, 4, 4, 4, 4, 4, 4, 4, 4, 4, 4, 4, 4, 4, 4, 4, 4, 4, 4, 4, 4,\n",
              "         4, 4, 4, 4, 4, 4, 4, 4, 4, 4, 4, 4, 4, 4, 4, 4, 4, 4, 4, 4, 4, 4, 4, 4,\n",
              "         4, 4, 4, 4, 4, 4, 4, 4, 4, 4, 4, 4, 4, 4, 4, 4, 4, 4, 4, 4, 4, 4, 4, 4,\n",
              "         4, 4, 4, 4, 4, 4, 4, 4, 4, 4, 4, 4, 4, 4, 4, 4, 4, 4, 4, 4, 4, 4, 4, 4,\n",
              "         4, 4, 4, 4, 4, 4, 4, 4])}"
            ]
          },
          "metadata": {},
          "execution_count": 65
        }
      ],
      "source": [
        "training_set[0]"
      ]
    },
    {
      "cell_type": "markdown",
      "metadata": {
        "id": "VvU4nzL2W2Xo"
      },
      "source": [
        "Let's verify that the input ids and corresponding targets are correct:"
      ]
    },
    {
      "cell_type": "code",
      "execution_count": null,
      "metadata": {
        "colab": {
          "base_uri": "https://localhost:8080/"
        },
        "id": "ZHoufyakY18x",
        "outputId": "524570f7-9fd1-4da2-8f43-fcb94cb1466a"
      },
      "outputs": [
        {
          "output_type": "execute_result",
          "data": {
            "text/plain": [
              "tensor([    2,    37,  5992,    39,    12,  3771,    30,    19,    19,  5992,\n",
              "           18, 34861, 12258,  3815,    18,  1440,    13,     3,     0,     0,\n",
              "            0,     0,     0,     0,     0,     0,     0,     0,     0,     0,\n",
              "            0,     0,     0,     0,     0,     0,     0,     0,     0,     0,\n",
              "            0,     0,     0,     0,     0,     0,     0,     0,     0,     0,\n",
              "            0,     0,     0,     0,     0,     0,     0,     0,     0,     0,\n",
              "            0,     0,     0,     0,     0,     0,     0,     0,     0,     0,\n",
              "            0,     0,     0,     0,     0,     0,     0,     0,     0,     0,\n",
              "            0,     0,     0,     0,     0,     0,     0,     0,     0,     0,\n",
              "            0,     0,     0,     0,     0,     0,     0,     0,     0,     0,\n",
              "            0,     0,     0,     0,     0,     0,     0,     0,     0,     0,\n",
              "            0,     0,     0,     0,     0,     0,     0,     0,     0,     0,\n",
              "            0,     0,     0,     0,     0,     0,     0,     0])"
            ]
          },
          "metadata": {},
          "execution_count": 66
        }
      ],
      "source": [
        "training_set[0][\"ids\"]"
      ]
    },
    {
      "cell_type": "code",
      "execution_count": null,
      "metadata": {
        "colab": {
          "base_uri": "https://localhost:8080/"
        },
        "id": "DWgnNJrYW2GP",
        "outputId": "3cc5dd74-0c83-4934-8dd2-3da6c2f49e5b"
      },
      "outputs": [
        {
          "output_type": "stream",
          "name": "stdout",
          "text": [
            "[CLS]       O\n",
            "[           O\n",
            "training    O\n",
            "]           O\n",
            "(           O\n",
            "https       O\n",
            ":           O\n",
            "/           O\n",
            "/           O\n",
            "training    O\n",
            ".           O\n",
            "sensi       O\n",
            "##ola       O\n",
            "##bs        O\n",
            ".           O\n",
            "com         O\n",
            ")           O\n",
            "[SEP]       O\n",
            "[PAD]       O\n",
            "[PAD]       O\n",
            "[PAD]       O\n",
            "[PAD]       O\n",
            "[PAD]       O\n",
            "[PAD]       O\n",
            "[PAD]       O\n",
            "[PAD]       O\n",
            "[PAD]       O\n",
            "[PAD]       O\n",
            "[PAD]       O\n",
            "[PAD]       O\n"
          ]
        }
      ],
      "source": [
        "# print the first 30 tokens and corresponding labels\n",
        "for token, label in zip(tokenizer.convert_ids_to_tokens(training_set[0][\"ids\"][:30]), training_set[0][\"targets\"][:30]):\n",
        "  print('{0:10}  {1}'.format(token, id2label[label.item()]))"
      ]
    },
    {
      "cell_type": "markdown",
      "metadata": {
        "id": "Ky68FcTgWnfN"
      },
      "source": [
        "Now, let's define the corresponding PyTorch dataloaders:"
      ]
    },
    {
      "cell_type": "code",
      "execution_count": null,
      "metadata": {
        "id": "KIw793myWOmi"
      },
      "outputs": [],
      "source": [
        "train_params = {'batch_size': TRAIN_BATCH_SIZE,\n",
        "                'shuffle': True,\n",
        "                'num_workers': 0\n",
        "                }\n",
        "\n",
        "test_params = {'batch_size': VALID_BATCH_SIZE,\n",
        "                'shuffle': True,\n",
        "                'num_workers': 0\n",
        "                }\n",
        "\n",
        "training_loader = DataLoader(training_set, **train_params)\n",
        "testing_loader = DataLoader(testing_set, **test_params)"
      ]
    },
    {
      "cell_type": "markdown",
      "metadata": {
        "id": "73OzU7oXRxR8"
      },
      "source": [
        "#### **Defining the model**"
      ]
    },
    {
      "cell_type": "markdown",
      "metadata": {
        "id": "T-iGhnhdLNdP"
      },
      "source": [
        "Here we define the model, BertForTokenClassification, and load it with the pretrained weights of \"bert-base-uncased\". The only thing we need to additionally specify is the number of labels (as this will determine the architecture of the classification head).\n",
        "\n",
        "Note that only the base layers are initialized with the pretrained weights. The token classification head of top has just randomly initialized weights, which we will train, together with the pretrained weights, using our labelled dataset. This is also printed as a warning when you run the code cell below.\n",
        "\n",
        "Then, we move the model to the GPU."
      ]
    },
    {
      "cell_type": "code",
      "execution_count": null,
      "metadata": {
        "colab": {
          "base_uri": "https://localhost:8080/"
        },
        "id": "cB9MR3KcWXUs",
        "outputId": "31de0a85-0c59-40f6-ee7d-8912786aa07c"
      },
      "outputs": [
        {
          "output_type": "stream",
          "name": "stderr",
          "text": [
            "Some weights of BertForTokenClassification were not initialized from the model checkpoint at jackaduma/SecBERT and are newly initialized: ['classifier.weight', 'classifier.bias']\n",
            "You should probably TRAIN this model on a down-stream task to be able to use it for predictions and inference.\n"
          ]
        },
        {
          "output_type": "execute_result",
          "data": {
            "text/plain": [
              "BertForTokenClassification(\n",
              "  (bert): BertModel(\n",
              "    (embeddings): BertEmbeddings(\n",
              "      (word_embeddings): Embedding(52000, 768, padding_idx=0)\n",
              "      (position_embeddings): Embedding(514, 768)\n",
              "      (token_type_embeddings): Embedding(1, 768)\n",
              "      (LayerNorm): LayerNorm((768,), eps=1e-12, elementwise_affine=True)\n",
              "      (dropout): Dropout(p=0.1, inplace=False)\n",
              "    )\n",
              "    (encoder): BertEncoder(\n",
              "      (layer): ModuleList(\n",
              "        (0-5): 6 x BertLayer(\n",
              "          (attention): BertAttention(\n",
              "            (self): BertSelfAttention(\n",
              "              (query): Linear(in_features=768, out_features=768, bias=True)\n",
              "              (key): Linear(in_features=768, out_features=768, bias=True)\n",
              "              (value): Linear(in_features=768, out_features=768, bias=True)\n",
              "              (dropout): Dropout(p=0.1, inplace=False)\n",
              "            )\n",
              "            (output): BertSelfOutput(\n",
              "              (dense): Linear(in_features=768, out_features=768, bias=True)\n",
              "              (LayerNorm): LayerNorm((768,), eps=1e-12, elementwise_affine=True)\n",
              "              (dropout): Dropout(p=0.1, inplace=False)\n",
              "            )\n",
              "          )\n",
              "          (intermediate): BertIntermediate(\n",
              "            (dense): Linear(in_features=768, out_features=3072, bias=True)\n",
              "            (intermediate_act_fn): GELUActivation()\n",
              "          )\n",
              "          (output): BertOutput(\n",
              "            (dense): Linear(in_features=3072, out_features=768, bias=True)\n",
              "            (LayerNorm): LayerNorm((768,), eps=1e-12, elementwise_affine=True)\n",
              "            (dropout): Dropout(p=0.1, inplace=False)\n",
              "          )\n",
              "        )\n",
              "      )\n",
              "    )\n",
              "  )\n",
              "  (dropout): Dropout(p=0.1, inplace=False)\n",
              "  (classifier): Linear(in_features=768, out_features=21, bias=True)\n",
              ")"
            ]
          },
          "metadata": {},
          "execution_count": 69
        }
      ],
      "source": [
        "model = AutoModelForTokenClassification.from_pretrained('jackaduma/SecBERT',\n",
        "                                                   num_labels=len(id2label),\n",
        "                                                   id2label=id2label,\n",
        "                                                   label2id=label2id)\n",
        "model.to(device)"
      ]
    },
    {
      "cell_type": "markdown",
      "metadata": {
        "id": "Pp7Yl4JyWhDj"
      },
      "source": [
        "#### **Training the model**\n",
        "\n",
        "Before training the model, let's perform a sanity check, which I learned thanks to Andrej Karpathy's wonderful [cs231n course](http://cs231n.stanford.edu/) at Stanford (see also his [blog post about debugging neural networks](http://karpathy.github.io/2019/04/25/recipe/)). The initial loss of your model should be close to -ln(1/number of classes) = -ln(1/17) = 2.83.\n",
        "\n",
        "Why? Because we are using cross entropy loss. The cross entropy loss is defined as -ln(probability score of the model for the correct class). In the beginning, the weights are random, so the probability distribution for all of the classes for a given token will be uniform, meaning that the probability for the correct class will be near 1/17. The loss for a given token will thus be -ln(1/17). As PyTorch's [CrossEntropyLoss](https://pytorch.org/docs/stable/generated/torch.nn.CrossEntropyLoss.html) (which is used by `BertForTokenClassification`) uses *mean reduction* by default, it will compute the mean loss for each of the tokens in the sequence (in other words, for all of the 512 tokens). The mean of 512 times -log(1/17) is, you guessed it, -log(1/17).  \n",
        "\n",
        "Let's verify this:\n",
        "\n"
      ]
    },
    {
      "cell_type": "code",
      "execution_count": null,
      "metadata": {
        "colab": {
          "base_uri": "https://localhost:8080/"
        },
        "id": "eqAN7YVIjKTr",
        "outputId": "df676382-8b67-416d-e995-6dc9a685ad1d"
      },
      "outputs": [
        {
          "output_type": "execute_result",
          "data": {
            "text/plain": [
              "tensor(2.8713, device='cuda:0', grad_fn=<NllLossBackward0>)"
            ]
          },
          "metadata": {},
          "execution_count": 70
        }
      ],
      "source": [
        "ids = training_set[0][\"ids\"].unsqueeze(0)\n",
        "mask = training_set[0][\"mask\"].unsqueeze(0)\n",
        "targets = training_set[0][\"targets\"].unsqueeze(0)\n",
        "ids = ids.to(device)\n",
        "mask = mask.to(device)\n",
        "targets = targets.to(device)\n",
        "outputs = model(input_ids=ids, attention_mask=mask, labels=targets)\n",
        "initial_loss = outputs[0]\n",
        "initial_loss"
      ]
    },
    {
      "cell_type": "markdown",
      "metadata": {
        "id": "yLdwsru9Mh7U"
      },
      "source": [
        "This looks good. Let's also verify that the logits of the neural network have a shape of (batch_size, sequence_length, num_labels):"
      ]
    },
    {
      "cell_type": "code",
      "execution_count": null,
      "metadata": {
        "colab": {
          "base_uri": "https://localhost:8080/"
        },
        "id": "X-z6YCpGnvfj",
        "outputId": "9a45ece7-d3d1-41ea-c65c-a5da5357e2c5"
      },
      "outputs": [
        {
          "output_type": "execute_result",
          "data": {
            "text/plain": [
              "torch.Size([1, 128, 21])"
            ]
          },
          "metadata": {},
          "execution_count": 71
        }
      ],
      "source": [
        "tr_logits = outputs[1]\n",
        "tr_logits.shape"
      ]
    },
    {
      "cell_type": "markdown",
      "metadata": {
        "id": "kwDLXxOVOCvD"
      },
      "source": [
        "Next, we define the optimizer. Here, we are just going to use Adam with a default learning rate. One can also decide to use more advanced ones such as AdamW (Adam with weight decay fix), which is [included](https://huggingface.co/transformers/main_classes/optimizer_schedules.html) in the Transformers repository, and a learning rate scheduler, but we are not going to do that here."
      ]
    },
    {
      "cell_type": "code",
      "execution_count": null,
      "metadata": {
        "id": "kznSQfGIWdU4"
      },
      "outputs": [],
      "source": [
        "optimizer = torch.optim.Adam(params=model.parameters(), lr=LEARNING_RATE)"
      ]
    },
    {
      "cell_type": "code",
      "execution_count": null,
      "metadata": {
        "id": "_We7ZNoVTDkl"
      },
      "outputs": [],
      "source": [
        "# Add a learning rate scheduler\n",
        "from transformers import get_linear_schedule_with_warmup\n",
        "\n",
        "total_steps = len(training_loader) * EPOCHS\n",
        "\n",
        "scheduler = get_linear_schedule_with_warmup(\n",
        "    optimizer,\n",
        "    num_warmup_steps=0,\n",
        "    num_training_steps=total_steps\n",
        ")"
      ]
    },
    {
      "cell_type": "markdown",
      "metadata": {
        "id": "vZQ8JMF0NOe1"
      },
      "source": [
        "Now let's define a regular PyTorch training function. It is partly based on [a really good repository about multilingual NER](https://github.com/chambliss/Multilingual_NER/blob/master/python/utils/main_utils.py#L344)."
      ]
    },
    {
      "cell_type": "code",
      "execution_count": null,
      "metadata": {
        "id": "GLFivpkwW1HY"
      },
      "outputs": [],
      "source": [
        "# Defining the training function on the 80% of the dataset for tuning the bert model\n",
        "epoch_accuracies = []\n",
        "\n",
        "def train(epoch):\n",
        "    tr_loss, tr_accuracy = 0, 0\n",
        "    nb_tr_examples, nb_tr_steps = 0, 0\n",
        "    tr_preds, tr_labels = [], []\n",
        "    # put model in training mode\n",
        "    model.train()\n",
        "\n",
        "    for idx, batch in enumerate(training_loader):\n",
        "\n",
        "        ids = batch['ids'].to(device, dtype = torch.long)\n",
        "        mask = batch['mask'].to(device, dtype = torch.long)\n",
        "        targets = batch['targets'].to(device, dtype = torch.long)\n",
        "\n",
        "        outputs = model(input_ids=ids, attention_mask=mask, labels=targets)\n",
        "        loss, tr_logits = outputs.loss, outputs.logits\n",
        "        tr_loss += loss.item()\n",
        "\n",
        "        nb_tr_steps += 1\n",
        "        nb_tr_examples += targets.size(0)\n",
        "\n",
        "        if idx % 100==0:\n",
        "            loss_step = tr_loss/nb_tr_steps\n",
        "            print(f\"Training loss per 100 training steps: {loss_step}\")\n",
        "\n",
        "        # compute training accuracy\n",
        "        flattened_targets = targets.view(-1) # shape (batch_size * seq_len,)\n",
        "        active_logits = tr_logits.view(-1, model.num_labels) # shape (batch_size * seq_len, num_labels)\n",
        "        flattened_predictions = torch.argmax(active_logits, axis=1) # shape (batch_size * seq_len,)\n",
        "        # now, use mask to determine where we should compare predictions with targets (includes [CLS] and [SEP] token predictions)\n",
        "        active_accuracy = mask.view(-1) == 1 # active accuracy is also of shape (batch_size * seq_len,)\n",
        "        targets = torch.masked_select(flattened_targets, active_accuracy)\n",
        "        predictions = torch.masked_select(flattened_predictions, active_accuracy)\n",
        "\n",
        "        tr_preds.extend(predictions)\n",
        "        tr_labels.extend(targets)\n",
        "\n",
        "        tmp_tr_accuracy = accuracy_score(targets.cpu().numpy(), predictions.cpu().numpy())\n",
        "        tr_accuracy += tmp_tr_accuracy\n",
        "\n",
        "        # gradient clipping\n",
        "        torch.nn.utils.clip_grad_norm_(\n",
        "            parameters=model.parameters(), max_norm=MAX_GRAD_NORM\n",
        "        )\n",
        "\n",
        "        # backward pass\n",
        "        optimizer.zero_grad()\n",
        "        loss.backward()\n",
        "        optimizer.step()\n",
        "\n",
        "    # ADDED 10/30\n",
        "    scheduler.step()\n",
        "\n",
        "    epoch_loss = tr_loss / nb_tr_steps\n",
        "    tr_accuracy = tr_accuracy / nb_tr_steps\n",
        "    print(f\"Training loss epoch: {epoch_loss}\")\n",
        "    print(f\"Training accuracy epoch: {tr_accuracy}\")\n",
        "\n",
        "    epoch_accuracies.append(tr_accuracy)"
      ]
    },
    {
      "cell_type": "markdown",
      "metadata": {
        "id": "k2dsCyP7dcF3"
      },
      "source": [
        "And let's train the model!"
      ]
    },
    {
      "cell_type": "code",
      "execution_count": null,
      "metadata": {
        "colab": {
          "base_uri": "https://localhost:8080/"
        },
        "id": "y07Ybw8rZeZ7",
        "outputId": "725305fe-bce6-4f90-b495-aa9c546bc266"
      },
      "outputs": [
        {
          "output_type": "stream",
          "name": "stdout",
          "text": [
            "Training epoch: 1\n",
            "Training loss per 100 training steps: 3.4605276584625244\n",
            "Training loss per 100 training steps: 1.270288771036828\n",
            "Training loss per 100 training steps: 1.0748207843422297\n",
            "Training loss per 100 training steps: 0.9422746505402647\n",
            "Training loss per 100 training steps: 0.8767182255660804\n",
            "Training loss per 100 training steps: 0.8108804964287553\n",
            "Training loss per 100 training steps: 0.7720702892160058\n",
            "Training loss per 100 training steps: 0.7428560092003641\n",
            "Training loss per 100 training steps: 0.7133421647675178\n",
            "Training loss per 100 training steps: 0.6985029629808949\n",
            "Training loss per 100 training steps: 0.6874896914704697\n",
            "Training loss per 100 training steps: 0.6689085739306923\n",
            "Training loss per 100 training steps: 0.6532973784683497\n",
            "Training loss per 100 training steps: 0.6389241229762809\n",
            "Training loss per 100 training steps: 0.623725058746223\n",
            "Training loss per 100 training steps: 0.6150685672900782\n",
            "Training loss epoch: 0.6144612407445986\n",
            "Training accuracy epoch: 0.5845850768628488\n",
            "Training epoch: 2\n",
            "Training loss per 100 training steps: 0.5133473873138428\n",
            "Training loss per 100 training steps: 0.4038940997480756\n",
            "Training loss per 100 training steps: 0.403663622150522\n",
            "Training loss per 100 training steps: 0.40521178802976576\n",
            "Training loss per 100 training steps: 0.40377967773548834\n",
            "Training loss per 100 training steps: 0.40086426087348404\n",
            "Training loss per 100 training steps: 0.39796816986890976\n",
            "Training loss per 100 training steps: 0.3901649272938215\n",
            "Training loss per 100 training steps: 0.38735916700618767\n",
            "Training loss per 100 training steps: 0.3823545411204326\n",
            "Training loss per 100 training steps: 0.3812277591866362\n",
            "Training loss per 100 training steps: 0.37975703002368993\n",
            "Training loss per 100 training steps: 0.37929430187716273\n",
            "Training loss per 100 training steps: 0.37835778537951553\n",
            "Training loss per 100 training steps: 0.375500773012553\n",
            "Training loss per 100 training steps: 0.3758462060089015\n",
            "Training loss epoch: 0.37568407480020793\n",
            "Training accuracy epoch: 0.7299793229488966\n",
            "Training epoch: 3\n",
            "Training loss per 100 training steps: 0.3623996675014496\n",
            "Training loss per 100 training steps: 0.30314917914053\n",
            "Training loss per 100 training steps: 0.29390525716861976\n",
            "Training loss per 100 training steps: 0.27913453207162525\n",
            "Training loss per 100 training steps: 0.2774487479527172\n",
            "Training loss per 100 training steps: 0.28091909695870265\n",
            "Training loss per 100 training steps: 0.2760800726854315\n",
            "Training loss per 100 training steps: 0.27869925987288974\n",
            "Training loss per 100 training steps: 0.2847551070676928\n",
            "Training loss per 100 training steps: 0.2833800717173237\n",
            "Training loss per 100 training steps: 0.28135471205719254\n",
            "Training loss per 100 training steps: 0.28056385571121845\n",
            "Training loss per 100 training steps: 0.2813436576908921\n",
            "Training loss per 100 training steps: 0.28215567109036865\n",
            "Training loss per 100 training steps: 0.2795159238697077\n",
            "Training loss per 100 training steps: 0.2767620463840053\n",
            "Training loss epoch: 0.2767023143124005\n",
            "Training accuracy epoch: 0.7952172241578086\n",
            "Training epoch: 4\n",
            "Training loss per 100 training steps: 0.48036623001098633\n",
            "Training loss per 100 training steps: 0.2073563271211368\n",
            "Training loss per 100 training steps: 0.205628681320938\n",
            "Training loss per 100 training steps: 0.20226051741623105\n",
            "Training loss per 100 training steps: 0.2004198644198756\n",
            "Training loss per 100 training steps: 0.20810428087389518\n",
            "Training loss per 100 training steps: 0.20973863743072044\n",
            "Training loss per 100 training steps: 0.21243537581006275\n",
            "Training loss per 100 training steps: 0.21295169446635967\n",
            "Training loss per 100 training steps: 0.2129223161965162\n",
            "Training loss per 100 training steps: 0.2120314287282266\n",
            "Training loss per 100 training steps: 0.21058312589074268\n",
            "Training loss per 100 training steps: 0.20953077369902304\n",
            "Training loss per 100 training steps: 0.20975697331980936\n",
            "Training loss per 100 training steps: 0.21142899512853752\n",
            "Training loss per 100 training steps: 0.21109346142020088\n",
            "Training loss epoch: 0.2110222160153864\n",
            "Training accuracy epoch: 0.8420908800330521\n",
            "Training epoch: 5\n",
            "Training loss per 100 training steps: 0.125313401222229\n",
            "Training loss per 100 training steps: 0.17209687120843642\n",
            "Training loss per 100 training steps: 0.15947456781599503\n",
            "Training loss per 100 training steps: 0.16426269686858222\n",
            "Training loss per 100 training steps: 0.1636709563383029\n",
            "Training loss per 100 training steps: 0.16588029800403023\n",
            "Training loss per 100 training steps: 0.16738369794075877\n",
            "Training loss per 100 training steps: 0.1695697334171213\n",
            "Training loss per 100 training steps: 0.1673548849585574\n",
            "Training loss per 100 training steps: 0.16738630539440982\n",
            "Training loss per 100 training steps: 0.16602737846487498\n",
            "Training loss per 100 training steps: 0.1658818932892171\n",
            "Training loss per 100 training steps: 0.1673314744534109\n",
            "Training loss per 100 training steps: 0.16629673236301692\n",
            "Training loss per 100 training steps: 0.16720811158786264\n",
            "Training loss per 100 training steps: 0.166595642709159\n",
            "Training loss epoch: 0.1665571243848445\n",
            "Training accuracy epoch: 0.8738336735378666\n",
            "Training epoch: 6\n",
            "Training loss per 100 training steps: 0.12193527072668076\n",
            "Training loss per 100 training steps: 0.14407937856169767\n",
            "Training loss per 100 training steps: 0.1371729758484706\n",
            "Training loss per 100 training steps: 0.13342587710350468\n",
            "Training loss per 100 training steps: 0.1333332719366087\n",
            "Training loss per 100 training steps: 0.13508711569336523\n",
            "Training loss per 100 training steps: 0.13738083290656758\n",
            "Training loss per 100 training steps: 0.13355667708001862\n",
            "Training loss per 100 training steps: 0.13173520447687478\n",
            "Training loss per 100 training steps: 0.13013605759184513\n",
            "Training loss per 100 training steps: 0.13070146900254648\n",
            "Training loss per 100 training steps: 0.13318652189890773\n",
            "Training loss per 100 training steps: 0.1335679093824791\n",
            "Training loss per 100 training steps: 0.13292187203146333\n",
            "Training loss per 100 training steps: 0.1330833706061165\n",
            "Training loss per 100 training steps: 0.13223498353126864\n",
            "Training loss epoch: 0.13262702407500346\n",
            "Training accuracy epoch: 0.8998325458050251\n",
            "Training epoch: 7\n",
            "Training loss per 100 training steps: 0.06765250861644745\n",
            "Training loss per 100 training steps: 0.11194604969039412\n",
            "Training loss per 100 training steps: 0.1202293049117819\n",
            "Training loss per 100 training steps: 0.12084603560253038\n",
            "Training loss per 100 training steps: 0.11754209138778157\n",
            "Training loss per 100 training steps: 0.11649040237558028\n",
            "Training loss per 100 training steps: 0.11431175657159055\n",
            "Training loss per 100 training steps: 0.11346715671334484\n",
            "Training loss per 100 training steps: 0.11226079437112\n",
            "Training loss per 100 training steps: 0.11303841252785411\n",
            "Training loss per 100 training steps: 0.11329178396948743\n",
            "Training loss per 100 training steps: 0.1134414715688383\n",
            "Training loss per 100 training steps: 0.11263109198498068\n",
            "Training loss per 100 training steps: 0.11128998054060828\n",
            "Training loss per 100 training steps: 0.11001347503846719\n",
            "Training loss per 100 training steps: 0.10992680921222857\n",
            "Training loss epoch: 0.10993124440943167\n",
            "Training accuracy epoch: 0.916937881440566\n",
            "Training epoch: 8\n",
            "Training loss per 100 training steps: 0.08507760614156723\n",
            "Training loss per 100 training steps: 0.09571819681913989\n",
            "Training loss per 100 training steps: 0.09685980222438142\n",
            "Training loss per 100 training steps: 0.09547139362484662\n",
            "Training loss per 100 training steps: 0.09833691931420245\n",
            "Training loss per 100 training steps: 0.10052767310718153\n",
            "Training loss per 100 training steps: 0.1007199102815879\n",
            "Training loss per 100 training steps: 0.09852562425824177\n",
            "Training loss per 100 training steps: 0.09615844569620112\n",
            "Training loss per 100 training steps: 0.09460706733757387\n",
            "Training loss per 100 training steps: 0.09474340311417191\n",
            "Training loss per 100 training steps: 0.09530295348204089\n",
            "Training loss per 100 training steps: 0.09416578291657712\n",
            "Training loss per 100 training steps: 0.09463785739155088\n",
            "Training loss per 100 training steps: 0.09370727192817076\n",
            "Training loss per 100 training steps: 0.09321343662215863\n",
            "Training loss epoch: 0.09316857229269686\n",
            "Training accuracy epoch: 0.9279220165794234\n",
            "Training epoch: 9\n",
            "Training loss per 100 training steps: 0.03041304275393486\n",
            "Training loss per 100 training steps: 0.07311250687816577\n",
            "Training loss per 100 training steps: 0.08032760125079855\n",
            "Training loss per 100 training steps: 0.07607336475651563\n",
            "Training loss per 100 training steps: 0.07508080315468002\n",
            "Training loss per 100 training steps: 0.07394790083605972\n",
            "Training loss per 100 training steps: 0.07435015647073284\n",
            "Training loss per 100 training steps: 0.07643061712703161\n",
            "Training loss per 100 training steps: 0.0765910588465051\n",
            "Training loss per 100 training steps: 0.07686389671733511\n",
            "Training loss per 100 training steps: 0.07766546540692475\n",
            "Training loss per 100 training steps: 0.07747923649306826\n",
            "Training loss per 100 training steps: 0.0775328428397091\n",
            "Training loss per 100 training steps: 0.07819683788522377\n",
            "Training loss per 100 training steps: 0.07771399408483688\n",
            "Training loss per 100 training steps: 0.07753645908743831\n",
            "Training loss epoch: 0.07752013019914454\n",
            "Training accuracy epoch: 0.9406040414697419\n",
            "Training epoch: 10\n",
            "Training loss per 100 training steps: 0.03207806125283241\n",
            "Training loss per 100 training steps: 0.05632294079814438\n",
            "Training loss per 100 training steps: 0.055856785206158936\n",
            "Training loss per 100 training steps: 0.06344223818861636\n",
            "Training loss per 100 training steps: 0.06480856504662315\n",
            "Training loss per 100 training steps: 0.0644041901995045\n",
            "Training loss per 100 training steps: 0.06479858940687284\n",
            "Training loss per 100 training steps: 0.06466706406299196\n",
            "Training loss per 100 training steps: 0.06490149462319296\n",
            "Training loss per 100 training steps: 0.0654349277524645\n",
            "Training loss per 100 training steps: 0.06612843268037007\n",
            "Training loss per 100 training steps: 0.06522474701194998\n",
            "Training loss per 100 training steps: 0.06559044159677901\n",
            "Training loss per 100 training steps: 0.06557541636497854\n",
            "Training loss per 100 training steps: 0.0656926340228377\n",
            "Training loss per 100 training steps: 0.06648323831270135\n",
            "Training loss epoch: 0.06647338969013204\n",
            "Training accuracy epoch: 0.9484915737333419\n"
          ]
        }
      ],
      "source": [
        "for epoch in range(EPOCHS):\n",
        "    print(f\"Training epoch: {epoch + 1}\")\n",
        "    train(epoch)"
      ]
    },
    {
      "cell_type": "code",
      "execution_count": null,
      "metadata": {
        "colab": {
          "base_uri": "https://localhost:8080/",
          "height": 472
        },
        "id": "1OH17CORlKtQ",
        "outputId": "74cb5729-a20c-4a30-97ad-778b06118b17"
      },
      "outputs": [
        {
          "output_type": "display_data",
          "data": {
            "text/plain": [
              "<Figure size 640x480 with 1 Axes>"
            ],
            "image/png": "[encoded data removed]"
          },
          "metadata": {}
        }
      ],
      "source": [
        "# After all epochs, plot the accuracies:\n",
        "plt.plot(epoch_accuracies)\n",
        "plt.xlabel('Epoch')\n",
        "plt.ylabel('Training Accuracy')\n",
        "plt.title('Training Accuracy per Epoch')\n",
        "plt.show()"
      ]
    },
    {
      "cell_type": "markdown",
      "metadata": {
        "id": "r4jcSOJr680a"
      },
      "source": [
        "#### **Evaluating the model**"
      ]
    },
    {
      "cell_type": "markdown",
      "metadata": {
        "id": "rYUTuOEUdfFJ"
      },
      "source": [
        "Now that we've trained our model, we can evaluate its performance on the held-out test set (which is 20% of the data). Note that here, no gradient updates are performed, the model just outputs its logits."
      ]
    },
    {
      "cell_type": "code",
      "execution_count": null,
      "metadata": {
        "id": "RIVVfFHi7Aw7"
      },
      "outputs": [],
      "source": [
        "def valid(model, testing_loader):\n",
        "    # put model in evaluation mode\n",
        "    model.eval()\n",
        "\n",
        "    eval_loss, eval_accuracy = 0, 0\n",
        "    nb_eval_examples, nb_eval_steps = 0, 0\n",
        "    eval_preds, eval_labels = [], []\n",
        "\n",
        "    with torch.no_grad():\n",
        "        for idx, batch in enumerate(testing_loader):\n",
        "\n",
        "            ids = batch['ids'].to(device, dtype = torch.long)\n",
        "            mask = batch['mask'].to(device, dtype = torch.long)\n",
        "            targets = batch['targets'].to(device, dtype = torch.long)\n",
        "\n",
        "            outputs = model(input_ids=ids, attention_mask=mask, labels=targets)\n",
        "            loss, eval_logits = outputs.loss, outputs.logits\n",
        "\n",
        "            eval_loss += loss.item()\n",
        "\n",
        "            nb_eval_steps += 1\n",
        "            nb_eval_examples += targets.size(0)\n",
        "\n",
        "            if idx % 100==0:\n",
        "                loss_step = eval_loss/nb_eval_steps\n",
        "                print(f\"Validation loss per 100 evaluation steps: {loss_step}\")\n",
        "\n",
        "            # compute evaluation accuracy\n",
        "            flattened_targets = targets.view(-1) # shape (batch_size * seq_len,)\n",
        "            active_logits = eval_logits.view(-1, model.num_labels) # shape (batch_size * seq_len, num_labels)\n",
        "            flattened_predictions = torch.argmax(active_logits, axis=1) # shape (batch_size * seq_len,)\n",
        "            # now, use mask to determine where we should compare predictions with targets (includes [CLS] and [SEP] token predictions)\n",
        "            active_accuracy = mask.view(-1) == 1 # active accuracy is also of shape (batch_size * seq_len,)\n",
        "            targets = torch.masked_select(flattened_targets, active_accuracy)\n",
        "            predictions = torch.masked_select(flattened_predictions, active_accuracy)\n",
        "\n",
        "            eval_labels.extend(targets)\n",
        "            eval_preds.extend(predictions)\n",
        "\n",
        "            tmp_eval_accuracy = accuracy_score(targets.cpu().numpy(), predictions.cpu().numpy())\n",
        "            eval_accuracy += tmp_eval_accuracy\n",
        "\n",
        "    #print(eval_labels)\n",
        "    #print(eval_preds)\n",
        "\n",
        "    labels = [id2label[id.item()] for id in eval_labels]\n",
        "    predictions = [id2label[id.item()] for id in eval_preds]\n",
        "\n",
        "    #print(labels)\n",
        "    #print(predictions)\n",
        "\n",
        "    eval_loss = eval_loss / nb_eval_steps\n",
        "    eval_accuracy = eval_accuracy / nb_eval_steps\n",
        "    print(f\"Validation Loss: {eval_loss}\")\n",
        "    print(f\"Validation Accuracy: {eval_accuracy}\")\n",
        "\n",
        "    return labels, predictions"
      ]
    },
    {
      "cell_type": "markdown",
      "metadata": {
        "id": "zJaONluRdq-e"
      },
      "source": [
        "As we can see below, performance is quite good! Accuracy on the test test is > 93%."
      ]
    },
    {
      "cell_type": "code",
      "execution_count": null,
      "metadata": {
        "colab": {
          "base_uri": "https://localhost:8080/"
        },
        "id": "2BrxRjvxApY8",
        "outputId": "fc6e8536-bbf6-4065-cbfc-7ea1f4f93b3d"
      },
      "outputs": [
        {
          "output_type": "stream",
          "name": "stdout",
          "text": [
            "Validation loss per 100 evaluation steps: 0.6000422239303589\n",
            "Validation loss per 100 evaluation steps: 0.41189871982992327\n",
            "Validation loss per 100 evaluation steps: 0.3635879754322229\n",
            "Validation loss per 100 evaluation steps: 0.36945129783688696\n",
            "Validation loss per 100 evaluation steps: 0.3662857087194352\n",
            "Validation loss per 100 evaluation steps: 0.34939648085066927\n",
            "Validation loss per 100 evaluation steps: 0.3345268104905893\n",
            "Validation loss per 100 evaluation steps: 0.3328736504639173\n",
            "Validation Loss: 0.3387709403065965\n",
            "Validation Accuracy: 0.8151368813730646\n"
          ]
        }
      ],
      "source": [
        "labels, predictions = valid(model, testing_loader)"
      ]
    },
    {
      "cell_type": "code",
      "execution_count": null,
      "metadata": {
        "colab": {
          "base_uri": "https://localhost:8080/"
        },
        "id": "D9ipivPUTOHf",
        "outputId": "c52e2502-6711-4b7b-96e8-1df6a856bb50"
      },
      "outputs": [
        {
          "output_type": "stream",
          "name": "stdout",
          "text": [
            "Precision: 0.8134155744024673\n",
            "Recall: 0.8084979564032697\n",
            "F1-Score: 0.8109493103301021\n"
          ]
        }
      ],
      "source": [
        "# Use other metrics to evaluate the performance of your model.\n",
        "from seqeval.metrics import precision_score, recall_score, f1_score\n",
        "\n",
        "print(f\"Precision: {precision_score([labels], [predictions])}\")\n",
        "print(f\"Recall: {recall_score([labels], [predictions])}\")\n",
        "print(f\"F1-Score: {f1_score([labels], [predictions])}\")"
      ]
    },
    {
      "cell_type": "markdown",
      "metadata": {
        "id": "SAznLDwx_U2X"
      },
      "source": [
        "However, the accuracy metric is misleading, as a lot of labels are \"outside\" (O), even after omitting predictions on the [PAD] tokens. What is important is looking at the precision, recall and f1-score of the individual tags. For this, we use the seqeval Python library:"
      ]
    },
    {
      "cell_type": "code",
      "execution_count": null,
      "metadata": {
        "colab": {
          "base_uri": "https://localhost:8080/"
        },
        "id": "0jDNXrjr-6BW",
        "outputId": "ad0a4526-3fa7-4023-ada1-2d0a5b11de8b"
      },
      "outputs": [
        {
          "output_type": "stream",
          "name": "stdout",
          "text": [
            "                    precision    recall  f1-score   support\n",
            "\n",
            "               CVE       0.89      0.92      0.90     12905\n",
            "  Host_Information       0.70      0.72      0.71      3114\n",
            "            Impact       0.56      0.52      0.54      2745\n",
            "           Product       0.62      0.62      0.62      4787\n",
            "   Published_dates       0.91      0.93      0.92      3625\n",
            "      Remote/Local       0.93      0.87      0.90      1569\n",
            "              Risk       0.85      0.87      0.86      3624\n",
            "            Vendor       0.78      0.66      0.72      2949\n",
            "    Version_Number       0.92      0.87      0.89      7773\n",
            "Vulnerability_Type       0.72      0.75      0.73      3885\n",
            "\n",
            "         micro avg       0.81      0.81      0.81     46976\n",
            "         macro avg       0.79      0.77      0.78     46976\n",
            "      weighted avg       0.81      0.81      0.81     46976\n",
            "\n"
          ]
        }
      ],
      "source": [
        "from seqeval.metrics import classification_report\n",
        "\n",
        "print(classification_report([labels], [predictions]))"
      ]
    },
    {
      "cell_type": "markdown",
      "metadata": {
        "id": "4Gz-wHAw3xMk"
      },
      "source": [
        "#### **Inference**\n",
        "\n",
        "The fun part is when we can quickly test the model on new, unseen sentences.\n",
        "Here, we use the prediction of the **first word piece of every word**. Note that the function we used to train our model (`tokenze_and_preserve_labels`) propagated the label to all subsequent word pieces (so you could for example also perform a majority vote on the predicted labels of all word pieces of a word).\n",
        "\n",
        "*In other words, the code below does not take into account when predictions of different word pieces that belong to the same word do not match.*"
      ]
    },
    {
      "cell_type": "code",
      "execution_count": null,
      "metadata": {
        "colab": {
          "base_uri": "https://localhost:8080/"
        },
        "id": "zPDla1mmZiax",
        "outputId": "fee82141-26c0-41fc-f36d-b2ecc1b436af"
      },
      "outputs": [
        {
          "output_type": "stream",
          "name": "stdout",
          "text": [
            "cve - 2023 - 1000 risk - high date - january 17 , 2023 version 4 . 0 . 1 vendor - microsoft\n",
            "['B-CVE', 'B-CVE', 'B-CVE', 'B-CVE', 'B-CVE', 'I-Vulnerability_Type', 'O', 'B-Risk', 'B-Published_dates', 'O', 'B-Published_dates', 'I-Published_dates', 'I-Published_dates', 'I-Published_dates', 'I-Version_Number', 'I-Version_Number', 'I-Version_Number', 'I-Version_Number', 'I-Version_Number', 'I-Version_Number', 'B-Product', 'B-Product', 'O']\n"
          ]
        }
      ],
      "source": [
        "sentence = \"CVE-2023-1000 \\n Risk - high \\n date - January 17, 2023 \\n version 4.0.1 \\n vendor - Microsoft\"\n",
        "\n",
        "inputs = tokenizer(sentence, padding='max_length', truncation=True, max_length=MAX_LEN, return_tensors=\"pt\")\n",
        "\n",
        "# move to gpu\n",
        "ids = inputs[\"input_ids\"].to(device)\n",
        "mask = inputs[\"attention_mask\"].to(device)\n",
        "# forward pass\n",
        "outputs = model(ids, mask)\n",
        "logits = outputs[0]\n",
        "\n",
        "active_logits = logits.view(-1, model.num_labels) # shape (batch_size * seq_len, num_labels)\n",
        "flattened_predictions = torch.argmax(active_logits, axis=1) # shape (batch_size*seq_len,) - predictions at the token level\n",
        "\n",
        "tokens = tokenizer.convert_ids_to_tokens(ids.squeeze().tolist())\n",
        "token_predictions = [id2label[i] for i in flattened_predictions.cpu().numpy()]\n",
        "wp_preds = list(zip(tokens, token_predictions)) # list of tuples. Each tuple = (wordpiece, prediction)\n",
        "\n",
        "word_level_predictions = []\n",
        "for pair in wp_preds:\n",
        "  if (pair[0].startswith(\" ##\")) or (pair[0] in ['[CLS]', '[SEP]', '[PAD]']):\n",
        "    # skip prediction\n",
        "    continue\n",
        "  else:\n",
        "    word_level_predictions.append(pair[1])\n",
        "\n",
        "# we join tokens, if they are not special ones\n",
        "str_rep = \" \".join([t[0] for t in wp_preds if t[0] not in ['[CLS]', '[SEP]', '[PAD]']]).replace(\" ##\", \"\")\n",
        "print(str_rep)\n",
        "print(word_level_predictions)"
      ]
    },
    {
      "cell_type": "markdown",
      "metadata": {
        "id": "bDIqKc-9cXBl"
      },
      "source": [
        "Note that there's another way to easily perform quick inference with a trained model: the [pipeline API](https://huggingface.co/docs/transformers/main_classes/pipelines). The pipeline API abstracts away all the complexity for you (basically performing what we did above). Here, we'll use the [TokenClassificationPipeline](https://huggingface.co/docs/transformers/v4.17.0/en/main_classes/pipelines#transformers.TokenClassificationPipeline) since that's the task we're doing, and we provide a model and tokenizer."
      ]
    },
    {
      "cell_type": "code",
      "execution_count": null,
      "metadata": {
        "colab": {
          "base_uri": "https://localhost:8080/"
        },
        "id": "D5KB5TKRcdRT",
        "outputId": "c73063ac-7f31-4c6a-972c-4607bc4632d3"
      },
      "outputs": [
        {
          "output_type": "stream",
          "name": "stderr",
          "text": [
            "Asking to truncate to max_length but no maximum length is provided and the model has no predefined maximum length. Default to no truncation.\n"
          ]
        },
        {
          "output_type": "execute_result",
          "data": {
            "text/plain": [
              "[{'entity_group': 'CVE',\n",
              "  'score': 0.99881965,\n",
              "  'word': 'cve',\n",
              "  'start': 0,\n",
              "  'end': 3},\n",
              " {'entity_group': 'CVE',\n",
              "  'score': 0.9981509,\n",
              "  'word': '-',\n",
              "  'start': 3,\n",
              "  'end': 4},\n",
              " {'entity_group': 'CVE',\n",
              "  'score': 0.9985777,\n",
              "  'word': '2023',\n",
              "  'start': 4,\n",
              "  'end': 8},\n",
              " {'entity_group': 'CVE',\n",
              "  'score': 0.9983364,\n",
              "  'word': '-',\n",
              "  'start': 8,\n",
              "  'end': 9},\n",
              " {'entity_group': 'CVE',\n",
              "  'score': 0.99896085,\n",
              "  'word': '1000',\n",
              "  'start': 9,\n",
              "  'end': 13},\n",
              " {'entity_group': 'Vulnerability_Type',\n",
              "  'score': 0.2753555,\n",
              "  'word': 'risk',\n",
              "  'start': 16,\n",
              "  'end': 20},\n",
              " {'entity_group': 'Risk',\n",
              "  'score': 0.6504595,\n",
              "  'word': 'high',\n",
              "  'start': 23,\n",
              "  'end': 27},\n",
              " {'entity_group': 'Published_dates',\n",
              "  'score': 0.7666582,\n",
              "  'word': 'date',\n",
              "  'start': 30,\n",
              "  'end': 34},\n",
              " {'entity_group': 'Published_dates',\n",
              "  'score': 0.8662958,\n",
              "  'word': 'january 17, 2023',\n",
              "  'start': 37,\n",
              "  'end': 53},\n",
              " {'entity_group': 'Version_Number',\n",
              "  'score': 0.92484134,\n",
              "  'word': 'version 4. 0. 1',\n",
              "  'start': 56,\n",
              "  'end': 69},\n",
              " {'entity_group': 'Product',\n",
              "  'score': 0.5122793,\n",
              "  'word': 'vendor',\n",
              "  'start': 72,\n",
              "  'end': 78},\n",
              " {'entity_group': 'Product',\n",
              "  'score': 0.3143987,\n",
              "  'word': '-',\n",
              "  'start': 79,\n",
              "  'end': 80}]"
            ]
          },
          "metadata": {},
          "execution_count": 82
        }
      ],
      "source": [
        "from transformers import pipeline\n",
        "\n",
        "pipe = pipeline(task=\"token-classification\", model=model.to(\"cpu\"), tokenizer=tokenizer, aggregation_strategy=\"simple\")\n",
        "pipe(\"CVE-2023-1000 \\n Risk - high \\n date - January 17, 2023 \\n version 4.0.1 \\n vendor - Microsoft\")"
      ]
    },
    {
      "cell_type": "markdown",
      "metadata": {
        "id": "sqDklprSqB5d"
      },
      "source": [
        "#### **Saving the model for future use**"
      ]
    },
    {
      "cell_type": "markdown",
      "metadata": {
        "id": "VuUdX_fImswO"
      },
      "source": [
        "Finally, let's save the model and tokenizer files such that we can easily re-use them later on. There are 2 options:\n",
        "\n",
        "* you can save everything locally, simply by calling `model.save_pretrained()` and `tokenizer.save_pretrained()`, providing a directory path as argument.\n",
        "* you can push the files to the [HuggingFace hub](https://huggingface.co/). This way, you can share your model with the community/your colleagues. All files will be tracked by git, as each model on the hub has its own git repo.\n",
        "\n",
        "Both options allow to re-use the model/tokenizer using the `from_pretrained()` method. Here we'll do the latter.\n",
        "\n",
        "To upload a model to the hub, 2 things need to be setup:\n",
        "* install git-LFS, which is used by the hub\n",
        "* set up authentication token\n"
      ]
    },
    {
      "cell_type": "code",
      "execution_count": null,
      "metadata": {
        "colab": {
          "base_uri": "https://localhost:8080/"
        },
        "id": "ZVw5wjcwfGHd",
        "outputId": "315d6ae0-8d6f-4141-ada0-1d8c3bdcf4f5"
      },
      "outputs": [
        {
          "output_type": "stream",
          "name": "stdout",
          "text": [
            "Reading package lists... Done\n",
            "Building dependency tree... Done\n",
            "Reading state information... Done\n",
            "git-lfs is already the newest version (3.0.2-1ubuntu0.2).\n",
            "0 upgraded, 0 newly installed, 0 to remove and 9 not upgraded.\n"
          ]
        }
      ],
      "source": [
        "!sudo apt-get install git-lfs"
      ]
    },
    {
      "cell_type": "code",
      "execution_count": null,
      "metadata": {
        "colab": {
          "base_uri": "https://localhost:8080/"
        },
        "id": "RA5ltzY5V0Ps",
        "outputId": "197ec9ba-bbf5-46c0-a37d-2591122e0fe7"
      },
      "outputs": [
        {
          "output_type": "execute_result",
          "data": {
            "text/plain": [
              "('TOKENIZER_OUTPUT_PATH/tokenizer_config.json',\n",
              " 'TOKENIZER_OUTPUT_PATH/special_tokens_map.json',\n",
              " 'TOKENIZER_OUTPUT_PATH/vocab.txt',\n",
              " 'TOKENIZER_OUTPUT_PATH/added_tokens.json',\n",
              " 'TOKENIZER_OUTPUT_PATH/tokenizer.json')"
            ]
          },
          "metadata": {},
          "execution_count": 86
        }
      ],
      "source": [
        "model.save_pretrained('MODEL_OUTPUT_PATH')\n",
        "tokenizer.save_pretrained('TOKENIZER_OUTPUT_PATH')"
      ]
    },
    {
      "cell_type": "code",
      "execution_count": null,
      "metadata": {
        "colab": {
          "base_uri": "https://localhost:8080/",
          "height": 386,
          "referenced_widgets": [
            "68bf413b4cb547e0936b1eaa12510e23",
            "bfb76db48ab64be6b9f52c233ec08345",
            "e34999a628ba426e993ca7643a3ce608",
            "121aabefb5c94f158e991d65641dd86d",
            "7cfc60e2b808406589d161e1cd517e3e",
            "22c3c01ad5f44d2bab1a9bfcb4f6466c",
            "4a66b213c7814356b6b2384661049c81",
            "3852f81ba77e45a7a71ab1e0af050acf",
            "f7aaf355122f44b696d99d8a48b490a8",
            "88f010a23dcb4559b68333e7163ca71e",
            "8b5951be9c964e48a137e1085664496e",
            "c2447c06f1f74e9284e88172e9f377a7",
            "b67b544048ed4b3599578e9ddcc81fe9",
            "472f44c9fe074405bb8905e91ce6aa54",
            "6e62fc3f6bf6440e945ff1a54dcaa0bc",
            "f1bf65295b2d43ff9055a9bb5d89a164",
            "98e06192dd7d4637b4b9feea26076f3a"
          ]
        },
        "id": "yxx9U4VgfJ7L",
        "outputId": "99103ebe-3391-43d2-cbab-6770b2ff5fd7"
      },
      "outputs": [
        {
          "output_type": "display_data",
          "data": {
            "text/plain": [
              "VBox(children=(HTML(value='<center> <img\\nsrc=https://huggingface.co/front/assets/huggingface_logo-noborder.sv…"
            ],
            "application/vnd.jupyter.widget-view+json": {
              "version_major": 2,
              "version_minor": 0,
              "model_id": "68bf413b4cb547e0936b1eaa12510e23"
            }
          },
          "metadata": {}
        }
      ],
      "source": [
        "from huggingface_hub import notebook_login\n",
        "\n",
        "notebook_login()"
      ]
    },
    {
      "cell_type": "markdown",
      "metadata": {
        "id": "ZlPINMg3hQQX"
      },
      "source": [
        "You can check the model on the hub: https://huggingface.co/nielsr/bert-finetuned-ner. Awesome, isn't it? Check the \"files and versions\" tab, it includes all our files :) we can now load it back as follows (here I'm using the [Auto API](https://huggingface.co/docs/transformers/model_doc/auto) - which will load the appropriate tokenizer + model for us):"
      ]
    },
    {
      "cell_type": "code",
      "execution_count": null,
      "metadata": {
        "id": "lGTAfo8bhXrW"
      },
      "outputs": [],
      "source": [
        "from transformers import AutoTokenizer, AutoModelForTokenClassification\n",
        "\n",
        "model_name = \"nielsr/bert-finetuned-ner\"\n",
        "tokenizer = AutoTokenizer.from_pretrained(model_name)\n",
        "model = AutoModelForTokenClassification.from_pretrained(model_name)"
      ]
    }
  ],
  "metadata": {
    "accelerator": "GPU",
    "colab": {
      "provenance": []
    },
    "kernelspec": {
      "display_name": "Python 3",
      "language": "python",
      "name": "python3"
    },
    "language_info": {
      "codemirror_mode": {
        "name": "ipython",
        "version": 3
      },
      "file_extension": ".py",
      "mimetype": "text/x-python",
      "name": "python",
      "nbconvert_exporter": "python",
      "pygments_lexer": "ipython3",
      "version": "3.6.4"
    },
    "widgets": {
      "application/vnd.jupyter.widget-state+json": {
        "68bf413b4cb547e0936b1eaa12510e23": {
          "model_module": "@jupyter-widgets/controls",
          "model_name": "VBoxModel",
          "model_module_version": "1.5.0",
          "state": {
            "_dom_classes": [],
            "_model_module": "@jupyter-widgets/controls",
            "_model_module_version": "1.5.0",
            "_model_name": "VBoxModel",
            "_view_count": null,
            "_view_module": "@jupyter-widgets/controls",
            "_view_module_version": "1.5.0",
            "_view_name": "VBoxView",
            "box_style": "",
            "children": [
              "IPY_MODEL_bfb76db48ab64be6b9f52c233ec08345",
              "IPY_MODEL_e34999a628ba426e993ca7643a3ce608",
              "IPY_MODEL_121aabefb5c94f158e991d65641dd86d",
              "IPY_MODEL_7cfc60e2b808406589d161e1cd517e3e",
              "IPY_MODEL_22c3c01ad5f44d2bab1a9bfcb4f6466c"
            ],
            "layout": "IPY_MODEL_4a66b213c7814356b6b2384661049c81"
          }
        },
        "bfb76db48ab64be6b9f52c233ec08345": {
          "model_module": "@jupyter-widgets/controls",
          "model_name": "HTMLModel",
          "model_module_version": "1.5.0",
          "state": {
            "_dom_classes": [],
            "_model_module": "@jupyter-widgets/controls",
            "_model_module_version": "1.5.0",
            "_model_name": "HTMLModel",
            "_view_count": null,
            "_view_module": "@jupyter-widgets/controls",
            "_view_module_version": "1.5.0",
            "_view_name": "HTMLView",
            "description": "",
            "description_tooltip": null,
            "layout": "IPY_MODEL_3852f81ba77e45a7a71ab1e0af050acf",
            "placeholder": "​",
            "style": "IPY_MODEL_f7aaf355122f44b696d99d8a48b490a8",
            "value": "<center> <img\nsrc=https://huggingface.co/front/assets/huggingface_logo-noborder.svg\nalt='Hugging Face'> <br> Copy a token from <a\nhref=\"https://huggingface.co/settings/tokens\" target=\"_blank\">your Hugging Face\ntokens page</a> and paste it below. <br> Immediately click login after copying\nyour token or it might be stored in plain text in this notebook file. </center>"
          }
        },
        "e34999a628ba426e993ca7643a3ce608": {
          "model_module": "@jupyter-widgets/controls",
          "model_name": "PasswordModel",
          "model_module_version": "1.5.0",
          "state": {
            "_dom_classes": [],
            "_model_module": "@jupyter-widgets/controls",
            "_model_module_version": "1.5.0",
            "_model_name": "PasswordModel",
            "_view_count": null,
            "_view_module": "@jupyter-widgets/controls",
            "_view_module_version": "1.5.0",
            "_view_name": "PasswordView",
            "continuous_update": true,
            "description": "Token:",
            "description_tooltip": null,
            "disabled": false,
            "layout": "IPY_MODEL_88f010a23dcb4559b68333e7163ca71e",
            "placeholder": "​",
            "style": "IPY_MODEL_8b5951be9c964e48a137e1085664496e",
            "value": ""
          }
        },
        "121aabefb5c94f158e991d65641dd86d": {
          "model_module": "@jupyter-widgets/controls",
          "model_name": "CheckboxModel",
          "model_module_version": "1.5.0",
          "state": {
            "_dom_classes": [],
            "_model_module": "@jupyter-widgets/controls",
            "_model_module_version": "1.5.0",
            "_model_name": "CheckboxModel",
            "_view_count": null,
            "_view_module": "@jupyter-widgets/controls",
            "_view_module_version": "1.5.0",
            "_view_name": "CheckboxView",
            "description": "Add token as git credential?",
            "description_tooltip": null,
            "disabled": false,
            "indent": true,
            "layout": "IPY_MODEL_c2447c06f1f74e9284e88172e9f377a7",
            "style": "IPY_MODEL_b67b544048ed4b3599578e9ddcc81fe9",
            "value": true
          }
        },
        "7cfc60e2b808406589d161e1cd517e3e": {
          "model_module": "@jupyter-widgets/controls",
          "model_name": "ButtonModel",
          "model_module_version": "1.5.0",
          "state": {
            "_dom_classes": [],
            "_model_module": "@jupyter-widgets/controls",
            "_model_module_version": "1.5.0",
            "_model_name": "ButtonModel",
            "_view_count": null,
            "_view_module": "@jupyter-widgets/controls",
            "_view_module_version": "1.5.0",
            "_view_name": "ButtonView",
            "button_style": "",
            "description": "Login",
            "disabled": false,
            "icon": "",
            "layout": "IPY_MODEL_472f44c9fe074405bb8905e91ce6aa54",
            "style": "IPY_MODEL_6e62fc3f6bf6440e945ff1a54dcaa0bc",
            "tooltip": ""
          }
        },
        "22c3c01ad5f44d2bab1a9bfcb4f6466c": {
          "model_module": "@jupyter-widgets/controls",
          "model_name": "HTMLModel",
          "model_module_version": "1.5.0",
          "state": {
            "_dom_classes": [],
            "_model_module": "@jupyter-widgets/controls",
            "_model_module_version": "1.5.0",
            "_model_name": "HTMLModel",
            "_view_count": null,
            "_view_module": "@jupyter-widgets/controls",
            "_view_module_version": "1.5.0",
            "_view_name": "HTMLView",
            "description": "",
            "description_tooltip": null,
            "layout": "IPY_MODEL_f1bf65295b2d43ff9055a9bb5d89a164",
            "placeholder": "​",
            "style": "IPY_MODEL_98e06192dd7d4637b4b9feea26076f3a",
            "value": "\n<b>Pro Tip:</b> If you don't already have one, you can create a dedicated\n'notebooks' token with 'write' access, that you can then easily reuse for all\nnotebooks. </center>"
          }
        },
        "4a66b213c7814356b6b2384661049c81": {
          "model_module": "@jupyter-widgets/base",
          "model_name": "LayoutModel",
          "model_module_version": "1.2.0",
          "state": {
            "_model_module": "@jupyter-widgets/base",
            "_model_module_version": "1.2.0",
            "_model_name": "LayoutModel",
            "_view_count": null,
            "_view_module": "@jupyter-widgets/base",
            "_view_module_version": "1.2.0",
            "_view_name": "LayoutView",
            "align_content": null,
            "align_items": "center",
            "align_self": null,
            "border": null,
            "bottom": null,
            "display": "flex",
            "flex": null,
            "flex_flow": "column",
            "grid_area": null,
            "grid_auto_columns": null,
            "grid_auto_flow": null,
            "grid_auto_rows": null,
            "grid_column": null,
            "grid_gap": null,
            "grid_row": null,
            "grid_template_areas": null,
            "grid_template_columns": null,
            "grid_template_rows": null,
            "height": null,
            "justify_content": null,
            "justify_items": null,
            "left": null,
            "margin": null,
            "max_height": null,
            "max_width": null,
            "min_height": null,
            "min_width": null,
            "object_fit": null,
            "object_position": null,
            "order": null,
            "overflow": null,
            "overflow_x": null,
            "overflow_y": null,
            "padding": null,
            "right": null,
            "top": null,
            "visibility": null,
            "width": "50%"
          }
        },
        "3852f81ba77e45a7a71ab1e0af050acf": {
          "model_module": "@jupyter-widgets/base",
          "model_name": "LayoutModel",
          "model_module_version": "1.2.0",
          "state": {
            "_model_module": "@jupyter-widgets/base",
            "_model_module_version": "1.2.0",
            "_model_name": "LayoutModel",
            "_view_count": null,
            "_view_module": "@jupyter-widgets/base",
            "_view_module_version": "1.2.0",
            "_view_name": "LayoutView",
            "align_content": null,
            "align_items": null,
            "align_self": null,
            "border": null,
            "bottom": null,
            "display": null,
            "flex": null,
            "flex_flow": null,
            "grid_area": null,
            "grid_auto_columns": null,
            "grid_auto_flow": null,
            "grid_auto_rows": null,
            "grid_column": null,
            "grid_gap": null,
            "grid_row": null,
            "grid_template_areas": null,
            "grid_template_columns": null,
            "grid_template_rows": null,
            "height": null,
            "justify_content": null,
            "justify_items": null,
            "left": null,
            "margin": null,
            "max_height": null,
            "max_width": null,
            "min_height": null,
            "min_width": null,
            "object_fit": null,
            "object_position": null,
            "order": null,
            "overflow": null,
            "overflow_x": null,
            "overflow_y": null,
            "padding": null,
            "right": null,
            "top": null,
            "visibility": null,
            "width": null
          }
        },
        "f7aaf355122f44b696d99d8a48b490a8": {
          "model_module": "@jupyter-widgets/controls",
          "model_name": "DescriptionStyleModel",
          "model_module_version": "1.5.0",
          "state": {
            "_model_module": "@jupyter-widgets/controls",
            "_model_module_version": "1.5.0",
            "_model_name": "DescriptionStyleModel",
            "_view_count": null,
            "_view_module": "@jupyter-widgets/base",
            "_view_module_version": "1.2.0",
            "_view_name": "StyleView",
            "description_width": ""
          }
        },
        "88f010a23dcb4559b68333e7163ca71e": {
          "model_module": "@jupyter-widgets/base",
          "model_name": "LayoutModel",
          "model_module_version": "1.2.0",
          "state": {
            "_model_module": "@jupyter-widgets/base",
            "_model_module_version": "1.2.0",
            "_model_name": "LayoutModel",
            "_view_count": null,
            "_view_module": "@jupyter-widgets/base",
            "_view_module_version": "1.2.0",
            "_view_name": "LayoutView",
            "align_content": null,
            "align_items": null,
            "align_self": null,
            "border": null,
            "bottom": null,
            "display": null,
            "flex": null,
            "flex_flow": null,
            "grid_area": null,
            "grid_auto_columns": null,
            "grid_auto_flow": null,
            "grid_auto_rows": null,
            "grid_column": null,
            "grid_gap": null,
            "grid_row": null,
            "grid_template_areas": null,
            "grid_template_columns": null,
            "grid_template_rows": null,
            "height": null,
            "justify_content": null,
            "justify_items": null,
            "left": null,
            "margin": null,
            "max_height": null,
            "max_width": null,
            "min_height": null,
            "min_width": null,
            "object_fit": null,
            "object_position": null,
            "order": null,
            "overflow": null,
            "overflow_x": null,
            "overflow_y": null,
            "padding": null,
            "right": null,
            "top": null,
            "visibility": null,
            "width": null
          }
        },
        "8b5951be9c964e48a137e1085664496e": {
          "model_module": "@jupyter-widgets/controls",
          "model_name": "DescriptionStyleModel",
          "model_module_version": "1.5.0",
          "state": {
            "_model_module": "@jupyter-widgets/controls",
            "_model_module_version": "1.5.0",
            "_model_name": "DescriptionStyleModel",
            "_view_count": null,
            "_view_module": "@jupyter-widgets/base",
            "_view_module_version": "1.2.0",
            "_view_name": "StyleView",
            "description_width": ""
          }
        },
        "c2447c06f1f74e9284e88172e9f377a7": {
          "model_module": "@jupyter-widgets/base",
          "model_name": "LayoutModel",
          "model_module_version": "1.2.0",
          "state": {
            "_model_module": "@jupyter-widgets/base",
            "_model_module_version": "1.2.0",
            "_model_name": "LayoutModel",
            "_view_count": null,
            "_view_module": "@jupyter-widgets/base",
            "_view_module_version": "1.2.0",
            "_view_name": "LayoutView",
            "align_content": null,
            "align_items": null,
            "align_self": null,
            "border": null,
            "bottom": null,
            "display": null,
            "flex": null,
            "flex_flow": null,
            "grid_area": null,
            "grid_auto_columns": null,
            "grid_auto_flow": null,
            "grid_auto_rows": null,
            "grid_column": null,
            "grid_gap": null,
            "grid_row": null,
            "grid_template_areas": null,
            "grid_template_columns": null,
            "grid_template_rows": null,
            "height": null,
            "justify_content": null,
            "justify_items": null,
            "left": null,
            "margin": null,
            "max_height": null,
            "max_width": null,
            "min_height": null,
            "min_width": null,
            "object_fit": null,
            "object_position": null,
            "order": null,
            "overflow": null,
            "overflow_x": null,
            "overflow_y": null,
            "padding": null,
            "right": null,
            "top": null,
            "visibility": null,
            "width": null
          }
        },
        "b67b544048ed4b3599578e9ddcc81fe9": {
          "model_module": "@jupyter-widgets/controls",
          "model_name": "DescriptionStyleModel",
          "model_module_version": "1.5.0",
          "state": {
            "_model_module": "@jupyter-widgets/controls",
            "_model_module_version": "1.5.0",
            "_model_name": "DescriptionStyleModel",
            "_view_count": null,
            "_view_module": "@jupyter-widgets/base",
            "_view_module_version": "1.2.0",
            "_view_name": "StyleView",
            "description_width": ""
          }
        },
        "472f44c9fe074405bb8905e91ce6aa54": {
          "model_module": "@jupyter-widgets/base",
          "model_name": "LayoutModel",
          "model_module_version": "1.2.0",
          "state": {
            "_model_module": "@jupyter-widgets/base",
            "_model_module_version": "1.2.0",
            "_model_name": "LayoutModel",
            "_view_count": null,
            "_view_module": "@jupyter-widgets/base",
            "_view_module_version": "1.2.0",
            "_view_name": "LayoutView",
            "align_content": null,
            "align_items": null,
            "align_self": null,
            "border": null,
            "bottom": null,
            "display": null,
            "flex": null,
            "flex_flow": null,
            "grid_area": null,
            "grid_auto_columns": null,
            "grid_auto_flow": null,
            "grid_auto_rows": null,
            "grid_column": null,
            "grid_gap": null,
            "grid_row": null,
            "grid_template_areas": null,
            "grid_template_columns": null,
            "grid_template_rows": null,
            "height": null,
            "justify_content": null,
            "justify_items": null,
            "left": null,
            "margin": null,
            "max_height": null,
            "max_width": null,
            "min_height": null,
            "min_width": null,
            "object_fit": null,
            "object_position": null,
            "order": null,
            "overflow": null,
            "overflow_x": null,
            "overflow_y": null,
            "padding": null,
            "right": null,
            "top": null,
            "visibility": null,
            "width": null
          }
        },
        "6e62fc3f6bf6440e945ff1a54dcaa0bc": {
          "model_module": "@jupyter-widgets/controls",
          "model_name": "ButtonStyleModel",
          "model_module_version": "1.5.0",
          "state": {
            "_model_module": "@jupyter-widgets/controls",
            "_model_module_version": "1.5.0",
            "_model_name": "ButtonStyleModel",
            "_view_count": null,
            "_view_module": "@jupyter-widgets/base",
            "_view_module_version": "1.2.0",
            "_view_name": "StyleView",
            "button_color": null,
            "font_weight": ""
          }
        },
        "f1bf65295b2d43ff9055a9bb5d89a164": {
          "model_module": "@jupyter-widgets/base",
          "model_name": "LayoutModel",
          "model_module_version": "1.2.0",
          "state": {
            "_model_module": "@jupyter-widgets/base",
            "_model_module_version": "1.2.0",
            "_model_name": "LayoutModel",
            "_view_count": null,
            "_view_module": "@jupyter-widgets/base",
            "_view_module_version": "1.2.0",
            "_view_name": "LayoutView",
            "align_content": null,
            "align_items": null,
            "align_self": null,
            "border": null,
            "bottom": null,
            "display": null,
            "flex": null,
            "flex_flow": null,
            "grid_area": null,
            "grid_auto_columns": null,
            "grid_auto_flow": null,
            "grid_auto_rows": null,
            "grid_column": null,
            "grid_gap": null,
            "grid_row": null,
            "grid_template_areas": null,
            "grid_template_columns": null,
            "grid_template_rows": null,
            "height": null,
            "justify_content": null,
            "justify_items": null,
            "left": null,
            "margin": null,
            "max_height": null,
            "max_width": null,
            "min_height": null,
            "min_width": null,
            "object_fit": null,
            "object_position": null,
            "order": null,
            "overflow": null,
            "overflow_x": null,
            "overflow_y": null,
            "padding": null,
            "right": null,
            "top": null,
            "visibility": null,
            "width": null
          }
        },
        "98e06192dd7d4637b4b9feea26076f3a": {
          "model_module": "@jupyter-widgets/controls",
          "model_name": "DescriptionStyleModel",
          "model_module_version": "1.5.0",
          "state": {
            "_model_module": "@jupyter-widgets/controls",
            "_model_module_version": "1.5.0",
            "_model_name": "DescriptionStyleModel",
            "_view_count": null,
            "_view_module": "@jupyter-widgets/base",
            "_view_module_version": "1.2.0",
            "_view_name": "StyleView",
            "description_width": ""
          }
        }
      }
    }
  },
  "nbformat": 4,
  "nbformat_minor": 0
}